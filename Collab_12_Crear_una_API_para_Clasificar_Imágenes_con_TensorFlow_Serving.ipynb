{
  "nbformat": 4,
  "nbformat_minor": 0,
  "metadata": {
    "colab": {
      "name": "Collab 12 - Crear una API para Clasificar Imágenes con TensorFlow Serving.ipynb",
      "provenance": [],
      "collapsed_sections": [],
      "include_colab_link": true
    },
    "kernelspec": {
      "name": "python3",
      "display_name": "Python 3"
    },
    "accelerator": "GPU"
  },
  "cells": [
    {
      "cell_type": "markdown",
      "metadata": {
        "id": "view-in-github",
        "colab_type": "text"
      },
      "source": [
        "<a href=\"https://colab.research.google.com/github/kalebsampaco/Tensor-flow-2-completo/blob/master/Collab_12_Crear_una_API_para_Clasificar_Im%C3%A1genes_con_TensorFlow_Serving.ipynb\" target=\"_parent\"><img src=\"https://colab.research.google.com/assets/colab-badge.svg\" alt=\"Open In Colab\"/></a>"
      ]
    },
    {
      "cell_type": "markdown",
      "metadata": {
        "id": "yCrzPgLp7W1h",
        "colab_type": "text"
      },
      "source": [
        "## Paso 1: Instalar las dependencias y configurar el proyecto en GPU\n"
      ]
    },
    {
      "cell_type": "code",
      "metadata": {
        "id": "w0KGbZuk7T7F",
        "colab_type": "code",
        "outputId": "aff29d7b-efeb-4a42-9891-1ec607e272a2",
        "colab": {
          "base_uri": "https://localhost:8080/",
          "height": 118
        }
      },
      "source": [
        "!echo \"deb [arch=amd64] http://storage.googleapis.com/tensorflow-serving-apt stable tensorflow-model-server tensorflow-model-server-universal\" | sudo tee /etc/apt/sources.list.d/tensorflow-serving.list && curl https://storage.googleapis.com/tensorflow-serving-apt/tensorflow-serving.release.pub.gpg | sudo apt-key add -"
      ],
      "execution_count": 24,
      "outputs": [
        {
          "output_type": "stream",
          "text": [
            "deb [arch=amd64] http://storage.googleapis.com/tensorflow-serving-apt stable tensorflow-model-server tensorflow-model-server-universal\n",
            "  % Total    % Received % Xferd  Average Speed   Time    Time     Time  Current\n",
            "                                 Dload  Upload   Total   Spent    Left  Speed\n",
            "\r  0     0    0     0    0     0      0      0 --:--:-- --:--:-- --:--:--     0\r100  2943  100  2943    0     0   159k      0 --:--:-- --:--:-- --:--:--  159k\n",
            "OK\n"
          ],
          "name": "stdout"
        }
      ]
    },
    {
      "cell_type": "code",
      "metadata": {
        "id": "-AoEpKnD94Lj",
        "colab_type": "code",
        "outputId": "4baaca30-310c-4775-804b-04269a4a681b",
        "colab": {
          "base_uri": "https://localhost:8080/",
          "height": 492
        }
      },
      "source": [
        "!apt-get update & apt-get install tensorflow-model-server"
      ],
      "execution_count": 23,
      "outputs": [
        {
          "output_type": "stream",
          "text": [
            "\rReading package lists... 0%\r\r0% [Working]\r            \rHit:1 http://storage.googleapis.com/tensorflow-serving-apt stable InRelease\n",
            "\r0% [Connecting to archive.ubuntu.com] [Connecting to security.ubuntu.com] [Conn\r0% [1 InRelease gpgv 3,012 B] [Connecting to archive.ubuntu.com] [Connecting to\rReading package lists... 0%\r\r                                                                               \rHit:2 http://ppa.launchpad.net/graphics-drivers/ppa/ubuntu bionic InRelease\n",
            "\r0% [1 InRelease gpgv 3,012 B] [Connecting to archive.ubuntu.com (91.189.88.152)\rReading package lists... 0%\r\r                                                                               \rHit:3 http://archive.ubuntu.com/ubuntu bionic InRelease\n",
            "\r0% [1 InRelease gpgv 3,012 B] [Connecting to security.ubuntu.com (91.189.91.38)\r                                                                               \rHit:4 http://ppa.launchpad.net/marutter/c2d4u3.5/ubuntu bionic InRelease\n",
            "\r0% [1 InRelease gpgv 3,012 B] [Waiting for headers] [Connecting to security.ubu\r                                                                               \rHit:5 http://archive.ubuntu.com/ubuntu bionic-updates InRelease\n",
            "\r0% [1 InRelease gpgv 3,012 B] [Connecting to security.ubuntu.com (91.189.91.38)\r                                                                               \rHit:6 http://archive.ubuntu.com/ubuntu bionic-backports InRelease\n",
            "\r0% [1 InRelease gpgv 3,012 B] [Connecting to security.ubuntu.com (91.189.91.38)\r                                                                               \rHit:7 https://cloud.r-project.org/bin/linux/ubuntu bionic-cran35/ InRelease\n",
            "\r0% [1 InRelease gpgv 3,012 B] [Connecting to security.ubuntu.com (91.189.91.38)\rReading package lists... 6%\r\rReading package lists... 6%\r\rReading package lists... 6%\r\rReading package lists... 6%\r\r                                                                               \rHit:8 http://security.ubuntu.com/ubuntu bionic-security InRelease\n",
            "\r                                                                               \r0% [1 InRelease gpgv 3,012 B] [Waiting for headers]\r                                                   \rIgn:9 https://developer.download.nvidia.com/compute/cuda/repos/ubuntu1804/x86_64  InRelease\n",
            "\r0% [1 InRelease gpgv 3,012 B] [Waiting for headers]\r                                                   \r0% [Waiting for headers]\r0% [2 InRelease gpgv 21.3 kB] [Waiting for headers]\r                                                   \rIgn:10 https://developer.download.nvidia.com/compute/machine-learning/repos/ubuntu1804/x86_64  InRelease\n",
            "\r                                                   \r0% [2 InRelease gpgv 21.3 kB]\r                             \rHit:11 https://developer.download.nvidia.com/compute/cuda/repos/ubuntu1804/x86_64  Release\n",
            "Hit:12 https://developer.download.nvidia.com/compute/machine-learning/repos/ubuntu1804/x86_64  Release\n",
            "Reading package lists... Done\n",
            "Building dependency tree       \n",
            "Reading state information... Done\n",
            "0% [Release.gpg gpgv 697 B]The following NEW packages will be installed:\n",
            "  tensorflow-model-server\n",
            "0 upgraded, 1 newly installed, 0 to remove and 70 not upgraded.\n",
            "Need to get 187 MB of archives.\n",
            "After this operation, 0 B of additional disk space will be used.\n",
            "Get:1 http://storage.googleapis.com/tensorflow-serving-apt stable/tensorflow-model-server amd64 tensorflow-model-server all 2.2.0 [187 MB]\n",
            "Reading package lists... Done\n",
            "Fetched 187 MB in 3s (64.1 MB/s)\n",
            "Selecting previously unselected package tensorflow-model-server.\n",
            "(Reading database ... 144467 files and directories currently installed.)\n",
            "Preparing to unpack .../tensorflow-model-server_2.2.0_all.deb ...\n",
            "Unpacking tensorflow-model-server (2.2.0) ...\n",
            "Setting up tensorflow-model-server (2.2.0) ...\n"
          ],
          "name": "stdout"
        }
      ]
    },
    {
      "cell_type": "code",
      "metadata": {
        "id": "a1cAehxr-M9p",
        "colab_type": "code",
        "outputId": "7a0c7096-f778-459a-889c-b4e24277ec68",
        "colab": {
          "base_uri": "https://localhost:8080/",
          "height": 737
        }
      },
      "source": [
        "!pip install tensorflow-gpu==1.13.1"
      ],
      "execution_count": 5,
      "outputs": [
        {
          "output_type": "stream",
          "text": [
            "Collecting tensorflow-gpu==1.13.1\n",
            "\u001b[?25l  Downloading https://files.pythonhosted.org/packages/7b/b1/0ad4ae02e17ddd62109cd54c291e311c4b5fd09b4d0678d3d6ce4159b0f0/tensorflow_gpu-1.13.1-cp36-cp36m-manylinux1_x86_64.whl (345.2MB)\n",
            "\u001b[K     |████████████████████████████████| 345.2MB 32kB/s \n",
            "\u001b[?25hRequirement already satisfied: protobuf>=3.6.1 in /usr/local/lib/python3.6/dist-packages (from tensorflow-gpu==1.13.1) (3.10.0)\n",
            "Requirement already satisfied: six>=1.10.0 in /usr/local/lib/python3.6/dist-packages (from tensorflow-gpu==1.13.1) (1.12.0)\n",
            "Collecting tensorflow-estimator<1.14.0rc0,>=1.13.0\n",
            "\u001b[?25l  Downloading https://files.pythonhosted.org/packages/bb/48/13f49fc3fa0fdf916aa1419013bb8f2ad09674c275b4046d5ee669a46873/tensorflow_estimator-1.13.0-py2.py3-none-any.whl (367kB)\n",
            "\u001b[K     |████████████████████████████████| 368kB 31.9MB/s \n",
            "\u001b[?25hRequirement already satisfied: grpcio>=1.8.6 in /usr/local/lib/python3.6/dist-packages (from tensorflow-gpu==1.13.1) (1.29.0)\n",
            "Requirement already satisfied: keras-applications>=1.0.6 in /usr/local/lib/python3.6/dist-packages (from tensorflow-gpu==1.13.1) (1.0.8)\n",
            "Requirement already satisfied: numpy>=1.13.3 in /usr/local/lib/python3.6/dist-packages (from tensorflow-gpu==1.13.1) (1.18.5)\n",
            "Requirement already satisfied: termcolor>=1.1.0 in /usr/local/lib/python3.6/dist-packages (from tensorflow-gpu==1.13.1) (1.1.0)\n",
            "Requirement already satisfied: astor>=0.6.0 in /usr/local/lib/python3.6/dist-packages (from tensorflow-gpu==1.13.1) (0.8.1)\n",
            "Requirement already satisfied: wheel>=0.26 in /usr/local/lib/python3.6/dist-packages (from tensorflow-gpu==1.13.1) (0.34.2)\n",
            "Requirement already satisfied: gast>=0.2.0 in /usr/local/lib/python3.6/dist-packages (from tensorflow-gpu==1.13.1) (0.3.3)\n",
            "Requirement already satisfied: absl-py>=0.1.6 in /usr/local/lib/python3.6/dist-packages (from tensorflow-gpu==1.13.1) (0.9.0)\n",
            "Requirement already satisfied: keras-preprocessing>=1.0.5 in /usr/local/lib/python3.6/dist-packages (from tensorflow-gpu==1.13.1) (1.1.2)\n",
            "Collecting tensorboard<1.14.0,>=1.13.0\n",
            "\u001b[?25l  Downloading https://files.pythonhosted.org/packages/0f/39/bdd75b08a6fba41f098b6cb091b9e8c7a80e1b4d679a581a0ccd17b10373/tensorboard-1.13.1-py3-none-any.whl (3.2MB)\n",
            "\u001b[K     |████████████████████████████████| 3.2MB 50.9MB/s \n",
            "\u001b[?25hRequirement already satisfied: setuptools in /usr/local/lib/python3.6/dist-packages (from protobuf>=3.6.1->tensorflow-gpu==1.13.1) (47.1.1)\n",
            "Collecting mock>=2.0.0\n",
            "  Downloading https://files.pythonhosted.org/packages/cd/74/d72daf8dff5b6566db857cfd088907bb0355f5dd2914c4b3ef065c790735/mock-4.0.2-py3-none-any.whl\n",
            "Requirement already satisfied: h5py in /usr/local/lib/python3.6/dist-packages (from keras-applications>=1.0.6->tensorflow-gpu==1.13.1) (2.10.0)\n",
            "Requirement already satisfied: markdown>=2.6.8 in /usr/local/lib/python3.6/dist-packages (from tensorboard<1.14.0,>=1.13.0->tensorflow-gpu==1.13.1) (3.2.2)\n",
            "Requirement already satisfied: werkzeug>=0.11.15 in /usr/local/lib/python3.6/dist-packages (from tensorboard<1.14.0,>=1.13.0->tensorflow-gpu==1.13.1) (1.0.1)\n",
            "Requirement already satisfied: importlib-metadata; python_version < \"3.8\" in /usr/local/lib/python3.6/dist-packages (from markdown>=2.6.8->tensorboard<1.14.0,>=1.13.0->tensorflow-gpu==1.13.1) (1.6.0)\n",
            "Requirement already satisfied: zipp>=0.5 in /usr/local/lib/python3.6/dist-packages (from importlib-metadata; python_version < \"3.8\"->markdown>=2.6.8->tensorboard<1.14.0,>=1.13.0->tensorflow-gpu==1.13.1) (3.1.0)\n",
            "\u001b[31mERROR: tensorflow 2.2.0 has requirement tensorboard<2.3.0,>=2.2.0, but you'll have tensorboard 1.13.1 which is incompatible.\u001b[0m\n",
            "\u001b[31mERROR: tensorflow 2.2.0 has requirement tensorflow-estimator<2.3.0,>=2.2.0, but you'll have tensorflow-estimator 1.13.0 which is incompatible.\u001b[0m\n",
            "Installing collected packages: mock, tensorflow-estimator, tensorboard, tensorflow-gpu\n",
            "  Found existing installation: tensorflow-estimator 2.2.0\n",
            "    Uninstalling tensorflow-estimator-2.2.0:\n",
            "      Successfully uninstalled tensorflow-estimator-2.2.0\n",
            "  Found existing installation: tensorboard 2.2.2\n",
            "    Uninstalling tensorboard-2.2.2:\n",
            "      Successfully uninstalled tensorboard-2.2.2\n",
            "Successfully installed mock-4.0.2 tensorboard-1.13.1 tensorflow-estimator-1.13.0 tensorflow-gpu-1.13.1\n"
          ],
          "name": "stdout"
        },
        {
          "output_type": "display_data",
          "data": {
            "application/vnd.colab-display-data+json": {
              "pip_warning": {
                "packages": [
                  "tensorboard",
                  "tensorflow"
                ]
              }
            }
          },
          "metadata": {
            "tags": []
          }
        }
      ]
    },
    {
      "cell_type": "code",
      "metadata": {
        "id": "zfxOPCl7-Wp7",
        "colab_type": "code",
        "outputId": "7af59849-4163-41e9-9e57-989b995f84ab",
        "colab": {
          "base_uri": "https://localhost:8080/",
          "height": 118
        }
      },
      "source": [
        "!pip install requests"
      ],
      "execution_count": 1,
      "outputs": [
        {
          "output_type": "stream",
          "text": [
            "Requirement already satisfied: requests in /usr/local/lib/python3.6/dist-packages (2.23.0)\n",
            "Requirement already satisfied: chardet<4,>=3.0.2 in /usr/local/lib/python3.6/dist-packages (from requests) (3.0.4)\n",
            "Requirement already satisfied: urllib3!=1.25.0,!=1.25.1,<1.26,>=1.21.1 in /usr/local/lib/python3.6/dist-packages (from requests) (1.24.3)\n",
            "Requirement already satisfied: idna<3,>=2.5 in /usr/local/lib/python3.6/dist-packages (from requests) (2.9)\n",
            "Requirement already satisfied: certifi>=2017.4.17 in /usr/local/lib/python3.6/dist-packages (from requests) (2020.4.5.1)\n"
          ],
          "name": "stdout"
        }
      ]
    },
    {
      "cell_type": "code",
      "metadata": {
        "id": "LyKTSRdbLsiP",
        "colab_type": "code",
        "colab": {}
      },
      "source": [
        "pip install -q  tfds-nightly matplotlib"
      ],
      "execution_count": 0,
      "outputs": []
    },
    {
      "cell_type": "markdown",
      "metadata": {
        "id": "qsgbM_R2-ud_",
        "colab_type": "text"
      },
      "source": [
        "## Paso 2: Importar las dependencias del proyecto"
      ]
    },
    {
      "cell_type": "code",
      "metadata": {
        "id": "Y3taHerg-nkS",
        "colab_type": "code",
        "outputId": "c55cf584-25a6-4eb8-8412-47f5734b5561",
        "colab": {
          "base_uri": "https://localhost:8080/",
          "height": 265
        }
      },
      "source": [
        "import os\n",
        "import json\n",
        "import random\n",
        "import requests\n",
        "import subprocess\n",
        "import numpy as np\n",
        "import tensorflow as tf\n",
        "import matplotlib.pyplot as plt\n",
        "\n",
        "#from tensorflow.keras.datasets import cifar10\n",
        "from keras.datasets import cifar10\n",
        "%matplotlib inline\n",
        "tf.__version__"
      ],
      "execution_count": 3,
      "outputs": [
        {
          "output_type": "stream",
          "text": [
            "/usr/local/lib/python3.6/dist-packages/tensorflow/python/framework/dtypes.py:526: FutureWarning: Passing (type, 1) or '1type' as a synonym of type is deprecated; in a future version of numpy, it will be understood as (type, (1,)) / '(1,)type'.\n",
            "  _np_qint8 = np.dtype([(\"qint8\", np.int8, 1)])\n",
            "/usr/local/lib/python3.6/dist-packages/tensorflow/python/framework/dtypes.py:527: FutureWarning: Passing (type, 1) or '1type' as a synonym of type is deprecated; in a future version of numpy, it will be understood as (type, (1,)) / '(1,)type'.\n",
            "  _np_quint8 = np.dtype([(\"quint8\", np.uint8, 1)])\n",
            "/usr/local/lib/python3.6/dist-packages/tensorflow/python/framework/dtypes.py:528: FutureWarning: Passing (type, 1) or '1type' as a synonym of type is deprecated; in a future version of numpy, it will be understood as (type, (1,)) / '(1,)type'.\n",
            "  _np_qint16 = np.dtype([(\"qint16\", np.int16, 1)])\n",
            "/usr/local/lib/python3.6/dist-packages/tensorflow/python/framework/dtypes.py:529: FutureWarning: Passing (type, 1) or '1type' as a synonym of type is deprecated; in a future version of numpy, it will be understood as (type, (1,)) / '(1,)type'.\n",
            "  _np_quint16 = np.dtype([(\"quint16\", np.uint16, 1)])\n",
            "/usr/local/lib/python3.6/dist-packages/tensorflow/python/framework/dtypes.py:530: FutureWarning: Passing (type, 1) or '1type' as a synonym of type is deprecated; in a future version of numpy, it will be understood as (type, (1,)) / '(1,)type'.\n",
            "  _np_qint32 = np.dtype([(\"qint32\", np.int32, 1)])\n",
            "/usr/local/lib/python3.6/dist-packages/tensorflow/python/framework/dtypes.py:535: FutureWarning: Passing (type, 1) or '1type' as a synonym of type is deprecated; in a future version of numpy, it will be understood as (type, (1,)) / '(1,)type'.\n",
            "  np_resource = np.dtype([(\"resource\", np.ubyte, 1)])\n",
            "Using TensorFlow backend.\n"
          ],
          "name": "stderr"
        },
        {
          "output_type": "execute_result",
          "data": {
            "text/plain": [
              "'1.13.1'"
            ]
          },
          "metadata": {
            "tags": []
          },
          "execution_count": 3
        }
      ]
    },
    {
      "cell_type": "markdown",
      "metadata": {
        "id": "90mWV1g6_TSt",
        "colab_type": "text"
      },
      "source": [
        "## Paso 3: Pre procesado de los datos"
      ]
    },
    {
      "cell_type": "markdown",
      "metadata": {
        "id": "dJsURBeA_XEe",
        "colab_type": "text"
      },
      "source": [
        "### Cargar el dataset"
      ]
    },
    {
      "cell_type": "code",
      "metadata": {
        "id": "FVgkziGT_RQZ",
        "colab_type": "code",
        "colab": {
          "base_uri": "https://localhost:8080/",
          "height": 50
        },
        "outputId": "1fcc77c8-6a21-46fd-b577-92e3ee04b057"
      },
      "source": [
        "(X_train, y_train), (X_test, y_test) = cifar10.load_data()"
      ],
      "execution_count": 4,
      "outputs": [
        {
          "output_type": "stream",
          "text": [
            "Downloading data from https://www.cs.toronto.edu/~kriz/cifar-10-python.tar.gz\n",
            "170500096/170498071 [==============================] - 6s 0us/step\n"
          ],
          "name": "stdout"
        }
      ]
    },
    {
      "cell_type": "code",
      "metadata": {
        "id": "hqOyARxY_kC2",
        "colab_type": "code",
        "colab": {}
      },
      "source": [
        "class_names = ['avión', 'coche', 'pájaro', 'gato', 'ciervo', 'perro', 'rana', 'caballo', 'barco', 'camión']"
      ],
      "execution_count": 0,
      "outputs": []
    },
    {
      "cell_type": "markdown",
      "metadata": {
        "id": "B_adA5GI_ZGK",
        "colab_type": "text"
      },
      "source": [
        "### Normalización de imágenes"
      ]
    },
    {
      "cell_type": "code",
      "metadata": {
        "id": "VK4HUwLC_akD",
        "colab_type": "code",
        "colab": {}
      },
      "source": [
        "X_train = X_train / 255.0\n",
        "X_test = X_test / 255.0"
      ],
      "execution_count": 0,
      "outputs": []
    },
    {
      "cell_type": "code",
      "metadata": {
        "id": "Q2A1OrRg_bD8",
        "colab_type": "code",
        "outputId": "9b5b1e08-a2b0-4753-f40b-81e86bef4e1d",
        "colab": {
          "base_uri": "https://localhost:8080/",
          "height": 33
        }
      },
      "source": [
        "X_train.shape"
      ],
      "execution_count": 7,
      "outputs": [
        {
          "output_type": "execute_result",
          "data": {
            "text/plain": [
              "(50000, 32, 32, 3)"
            ]
          },
          "metadata": {
            "tags": []
          },
          "execution_count": 7
        }
      ]
    },
    {
      "cell_type": "markdown",
      "metadata": {
        "id": "HO6nL_9sBLPo",
        "colab_type": "text"
      },
      "source": [
        "## Paso 4: Definir el modelo\n",
        "\n",
        "NOTA: Vamos a usar el mismo modelo que creamos en la Sección de Redes Neuronales Convolucionales"
      ]
    },
    {
      "cell_type": "code",
      "metadata": {
        "id": "FHyAvU8OA_aq",
        "colab_type": "code",
        "colab": {
          "base_uri": "https://localhost:8080/",
          "height": 86
        },
        "outputId": "0fbe5a7a-6da1-4231-ca8c-571e8b94c88e"
      },
      "source": [
        "model = tf.keras.models.Sequential()\n",
        "model.add(tf.keras.layers.Conv2D(filters=32, kernel_size=3, padding=\"same\", activation=\"relu\", input_shape=[32, 32, 3]))\n",
        "model.add(tf.keras.layers.Conv2D(filters=32, kernel_size=3, padding=\"same\", activation=\"relu\"))\n",
        "model.add(tf.keras.layers.MaxPool2D(pool_size=2, strides=2, padding='valid'))\n",
        "model.add(tf.keras.layers.Conv2D(filters=64, kernel_size=3, padding=\"same\", activation=\"relu\"))\n",
        "model.add(tf.keras.layers.Conv2D(filters=64, kernel_size=3, padding=\"same\", activation=\"relu\"))\n",
        "model.add(tf.keras.layers.MaxPool2D(pool_size=2, strides=2, padding='valid'))\n",
        "model.add(tf.keras.layers.Flatten())\n",
        "model.add(tf.keras.layers.Dense(units=128, activation='relu'))\n",
        "model.add(tf.keras.layers.Dense(units=10, activation='softmax'))"
      ],
      "execution_count": 8,
      "outputs": [
        {
          "output_type": "stream",
          "text": [
            "WARNING:tensorflow:From /usr/local/lib/python3.6/dist-packages/tensorflow/python/ops/resource_variable_ops.py:435: colocate_with (from tensorflow.python.framework.ops) is deprecated and will be removed in a future version.\n",
            "Instructions for updating:\n",
            "Colocations handled automatically by placer.\n"
          ],
          "name": "stdout"
        }
      ]
    },
    {
      "cell_type": "markdown",
      "metadata": {
        "id": "J-7vFhykBgMj",
        "colab_type": "text"
      },
      "source": [
        "### Compilar el modelo"
      ]
    },
    {
      "cell_type": "code",
      "metadata": {
        "id": "5nqrVFn3BkeS",
        "colab_type": "code",
        "colab": {}
      },
      "source": [
        "model.compile(optimizer='Adam', \n",
        "              loss='sparse_categorical_crossentropy', \n",
        "              metrics=['sparse_categorical_accuracy'])"
      ],
      "execution_count": 0,
      "outputs": []
    },
    {
      "cell_type": "markdown",
      "metadata": {
        "id": "JJ1X_hgBBmx9",
        "colab_type": "text"
      },
      "source": [
        "###  Entrenar el modelo"
      ]
    },
    {
      "cell_type": "code",
      "metadata": {
        "id": "I7FSeHUkBpUq",
        "colab_type": "code",
        "outputId": "5742b6c0-3efb-4a24-fd3a-e0ba4186c527",
        "colab": {
          "base_uri": "https://localhost:8080/",
          "height": 378
        }
      },
      "source": [
        "model.fit(X_train, \n",
        "          y_train, \n",
        "          batch_size=128, \n",
        "          epochs=10)"
      ],
      "execution_count": 10,
      "outputs": [
        {
          "output_type": "stream",
          "text": [
            "Epoch 1/10\n",
            "50000/50000 [==============================] - 9s 186us/sample - loss: 1.5035 - sparse_categorical_accuracy: 0.4566\n",
            "Epoch 2/10\n",
            "50000/50000 [==============================] - 4s 72us/sample - loss: 1.0440 - sparse_categorical_accuracy: 0.6324\n",
            "Epoch 3/10\n",
            "50000/50000 [==============================] - 4s 73us/sample - loss: 0.8607 - sparse_categorical_accuracy: 0.6970\n",
            "Epoch 4/10\n",
            "50000/50000 [==============================] - 4s 72us/sample - loss: 0.7408 - sparse_categorical_accuracy: 0.7435\n",
            "Epoch 5/10\n",
            "50000/50000 [==============================] - 4s 72us/sample - loss: 0.6377 - sparse_categorical_accuracy: 0.7776\n",
            "Epoch 6/10\n",
            "50000/50000 [==============================] - 4s 72us/sample - loss: 0.5555 - sparse_categorical_accuracy: 0.8073\n",
            "Epoch 7/10\n",
            "50000/50000 [==============================] - 4s 72us/sample - loss: 0.4748 - sparse_categorical_accuracy: 0.8343\n",
            "Epoch 8/10\n",
            "50000/50000 [==============================] - 4s 72us/sample - loss: 0.4094 - sparse_categorical_accuracy: 0.8570\n",
            "Epoch 9/10\n",
            "50000/50000 [==============================] - 4s 73us/sample - loss: 0.3364 - sparse_categorical_accuracy: 0.8818\n",
            "Epoch 10/10\n",
            "50000/50000 [==============================] - 4s 73us/sample - loss: 0.2731 - sparse_categorical_accuracy: 0.9030\n"
          ],
          "name": "stdout"
        },
        {
          "output_type": "execute_result",
          "data": {
            "text/plain": [
              "<tensorflow.python.keras.callbacks.History at 0x7f55c5543e10>"
            ]
          },
          "metadata": {
            "tags": []
          },
          "execution_count": 10
        }
      ]
    },
    {
      "cell_type": "markdown",
      "metadata": {
        "id": "g6k_gnv5BqdT",
        "colab_type": "text"
      },
      "source": [
        "### Evaluar el modelo"
      ]
    },
    {
      "cell_type": "code",
      "metadata": {
        "id": "l0nHalVeBtAy",
        "colab_type": "code",
        "outputId": "ec8d9612-1672-494e-fa4f-854f3df6e09b",
        "colab": {
          "base_uri": "https://localhost:8080/",
          "height": 53
        }
      },
      "source": [
        "test_loss, test_accuracy = model.evaluate(X_test, y_test)"
      ],
      "execution_count": 11,
      "outputs": [
        {
          "output_type": "stream",
          "text": [
            "10000/10000 [==============================] - 1s 81us/sample - loss: 0.9321 - sparse_categorical_accuracy: 0.7475\n"
          ],
          "name": "stdout"
        }
      ]
    },
    {
      "cell_type": "code",
      "metadata": {
        "id": "u9q7jsTuBuxT",
        "colab_type": "code",
        "outputId": "c5bac16f-aada-4951-8e66-7c7a49f7d21e",
        "colab": {
          "base_uri": "https://localhost:8080/",
          "height": 33
        }
      },
      "source": [
        "print(\"La precisión del modelo es de {} %\".format(test_accuracy*100.0))"
      ],
      "execution_count": 14,
      "outputs": [
        {
          "output_type": "stream",
          "text": [
            "La precisión del modelo es de 74.75000023841858 %\n"
          ],
          "name": "stdout"
        }
      ]
    },
    {
      "cell_type": "markdown",
      "metadata": {
        "id": "945L3-2rDjFe",
        "colab_type": "text"
      },
      "source": [
        "## Paso 5: Guardar el modelo para subir a producción"
      ]
    },
    {
      "cell_type": "markdown",
      "metadata": {
        "id": "5a5uCiniDmgY",
        "colab_type": "text"
      },
      "source": [
        "### Crear un directorio para el modelo"
      ]
    },
    {
      "cell_type": "code",
      "metadata": {
        "id": "YonroqRrC3sM",
        "colab_type": "code",
        "colab": {}
      },
      "source": [
        "MODEL_DIR = \"model/\"\n",
        "version = 1"
      ],
      "execution_count": 0,
      "outputs": []
    },
    {
      "cell_type": "code",
      "metadata": {
        "id": "07NyMUGYEMNF",
        "colab_type": "code",
        "outputId": "39f35e3b-a4b8-4e4f-ea44-fdb8bdf4810e",
        "colab": {
          "base_uri": "https://localhost:8080/",
          "height": 33
        }
      },
      "source": [
        "export_path = os.path.join(MODEL_DIR, str(version))\n",
        "export_path"
      ],
      "execution_count": 13,
      "outputs": [
        {
          "output_type": "execute_result",
          "data": {
            "text/plain": [
              "'model/1'"
            ]
          },
          "metadata": {
            "tags": []
          },
          "execution_count": 13
        }
      ]
    },
    {
      "cell_type": "code",
      "metadata": {
        "id": "jln7YavbEczA",
        "colab_type": "code",
        "colab": {}
      },
      "source": [
        "if os.path.isdir(export_path):\n",
        "    !rm -r {export_path}"
      ],
      "execution_count": 0,
      "outputs": []
    },
    {
      "cell_type": "markdown",
      "metadata": {
        "id": "0RA2HuIUDrDQ",
        "colab_type": "text"
      },
      "source": [
        "### Guardar el modelo para TensorFlow Serving"
      ]
    },
    {
      "cell_type": "code",
      "metadata": {
        "id": "19DG8IkIDv4S",
        "colab_type": "code",
        "outputId": "4189a70a-6505-4a67-fb48-1bbe1d2f9763",
        "colab": {
          "base_uri": "https://localhost:8080/",
          "height": 316
        }
      },
      "source": [
        "tf.saved_model.simple_save(tf.keras.backend.get_session(), export_dir=export_path, inputs={\"input_image\":model.input}, outputs={t.name:t for t in model.outputs})"
      ],
      "execution_count": 26,
      "outputs": [
        {
          "output_type": "error",
          "ename": "AssertionError",
          "evalue": "ignored",
          "traceback": [
            "\u001b[0;31m---------------------------------------------------------------------------\u001b[0m",
            "\u001b[0;31mAssertionError\u001b[0m                            Traceback (most recent call last)",
            "\u001b[0;32m<ipython-input-26-f70a5d463003>\u001b[0m in \u001b[0;36m<module>\u001b[0;34m()\u001b[0m\n\u001b[0;32m----> 1\u001b[0;31m \u001b[0mtf\u001b[0m\u001b[0;34m.\u001b[0m\u001b[0msaved_model\u001b[0m\u001b[0;34m.\u001b[0m\u001b[0msimple_save\u001b[0m\u001b[0;34m(\u001b[0m\u001b[0mtf\u001b[0m\u001b[0;34m.\u001b[0m\u001b[0mkeras\u001b[0m\u001b[0;34m.\u001b[0m\u001b[0mbackend\u001b[0m\u001b[0;34m.\u001b[0m\u001b[0mget_session\u001b[0m\u001b[0;34m(\u001b[0m\u001b[0;34m)\u001b[0m\u001b[0;34m,\u001b[0m \u001b[0mexport_dir\u001b[0m\u001b[0;34m=\u001b[0m\u001b[0mexport_path\u001b[0m\u001b[0;34m,\u001b[0m \u001b[0minputs\u001b[0m\u001b[0;34m=\u001b[0m\u001b[0;34m{\u001b[0m\u001b[0;34m\"input_image\"\u001b[0m\u001b[0;34m:\u001b[0m\u001b[0mmodel\u001b[0m\u001b[0;34m.\u001b[0m\u001b[0minput\u001b[0m\u001b[0;34m}\u001b[0m\u001b[0;34m,\u001b[0m \u001b[0moutputs\u001b[0m\u001b[0;34m=\u001b[0m\u001b[0;34m{\u001b[0m\u001b[0mt\u001b[0m\u001b[0;34m.\u001b[0m\u001b[0mname\u001b[0m\u001b[0;34m:\u001b[0m\u001b[0mt\u001b[0m \u001b[0;32mfor\u001b[0m \u001b[0mt\u001b[0m \u001b[0;32min\u001b[0m \u001b[0mmodel\u001b[0m\u001b[0;34m.\u001b[0m\u001b[0moutputs\u001b[0m\u001b[0;34m}\u001b[0m\u001b[0;34m)\u001b[0m\u001b[0;34m\u001b[0m\u001b[0;34m\u001b[0m\u001b[0m\n\u001b[0m",
            "\u001b[0;32m/usr/local/lib/python3.6/dist-packages/tensorflow/python/util/deprecation.py\u001b[0m in \u001b[0;36mnew_func\u001b[0;34m(*args, **kwargs)\u001b[0m\n\u001b[1;32m    322\u001b[0m               \u001b[0;34m'in a future version'\u001b[0m \u001b[0;32mif\u001b[0m \u001b[0mdate\u001b[0m \u001b[0;32mis\u001b[0m \u001b[0;32mNone\u001b[0m \u001b[0;32melse\u001b[0m \u001b[0;34m(\u001b[0m\u001b[0;34m'after %s'\u001b[0m \u001b[0;34m%\u001b[0m \u001b[0mdate\u001b[0m\u001b[0;34m)\u001b[0m\u001b[0;34m,\u001b[0m\u001b[0;34m\u001b[0m\u001b[0;34m\u001b[0m\u001b[0m\n\u001b[1;32m    323\u001b[0m               instructions)\n\u001b[0;32m--> 324\u001b[0;31m       \u001b[0;32mreturn\u001b[0m \u001b[0mfunc\u001b[0m\u001b[0;34m(\u001b[0m\u001b[0;34m*\u001b[0m\u001b[0margs\u001b[0m\u001b[0;34m,\u001b[0m \u001b[0;34m**\u001b[0m\u001b[0mkwargs\u001b[0m\u001b[0;34m)\u001b[0m\u001b[0;34m\u001b[0m\u001b[0;34m\u001b[0m\u001b[0m\n\u001b[0m\u001b[1;32m    325\u001b[0m     return tf_decorator.make_decorator(\n\u001b[1;32m    326\u001b[0m         \u001b[0mfunc\u001b[0m\u001b[0;34m,\u001b[0m \u001b[0mnew_func\u001b[0m\u001b[0;34m,\u001b[0m \u001b[0;34m'deprecated'\u001b[0m\u001b[0;34m,\u001b[0m\u001b[0;34m\u001b[0m\u001b[0;34m\u001b[0m\u001b[0m\n",
            "\u001b[0;32m/usr/local/lib/python3.6/dist-packages/tensorflow/python/saved_model/simple_save.py\u001b[0m in \u001b[0;36msimple_save\u001b[0;34m(session, export_dir, inputs, outputs, legacy_init_op)\u001b[0m\n\u001b[1;32m     81\u001b[0m           \u001b[0msignature_def_utils\u001b[0m\u001b[0;34m.\u001b[0m\u001b[0mpredict_signature_def\u001b[0m\u001b[0;34m(\u001b[0m\u001b[0minputs\u001b[0m\u001b[0;34m,\u001b[0m \u001b[0moutputs\u001b[0m\u001b[0;34m)\u001b[0m\u001b[0;34m\u001b[0m\u001b[0;34m\u001b[0m\u001b[0m\n\u001b[1;32m     82\u001b[0m   }\n\u001b[0;32m---> 83\u001b[0;31m   \u001b[0mb\u001b[0m \u001b[0;34m=\u001b[0m \u001b[0mbuilder\u001b[0m\u001b[0;34m.\u001b[0m\u001b[0mSavedModelBuilder\u001b[0m\u001b[0;34m(\u001b[0m\u001b[0mexport_dir\u001b[0m\u001b[0;34m)\u001b[0m\u001b[0;34m\u001b[0m\u001b[0;34m\u001b[0m\u001b[0m\n\u001b[0m\u001b[1;32m     84\u001b[0m   b.add_meta_graph_and_variables(\n\u001b[1;32m     85\u001b[0m       \u001b[0msession\u001b[0m\u001b[0;34m,\u001b[0m\u001b[0;34m\u001b[0m\u001b[0;34m\u001b[0m\u001b[0m\n",
            "\u001b[0;32m/usr/local/lib/python3.6/dist-packages/tensorflow/python/saved_model/builder_impl.py\u001b[0m in \u001b[0;36m__init__\u001b[0;34m(self, export_dir)\u001b[0m\n\u001b[1;32m    423\u001b[0m \u001b[0;34m\u001b[0m\u001b[0m\n\u001b[1;32m    424\u001b[0m   \u001b[0;32mdef\u001b[0m \u001b[0m__init__\u001b[0m\u001b[0;34m(\u001b[0m\u001b[0mself\u001b[0m\u001b[0;34m,\u001b[0m \u001b[0mexport_dir\u001b[0m\u001b[0;34m)\u001b[0m\u001b[0;34m:\u001b[0m\u001b[0;34m\u001b[0m\u001b[0;34m\u001b[0m\u001b[0m\n\u001b[0;32m--> 425\u001b[0;31m     \u001b[0msuper\u001b[0m\u001b[0;34m(\u001b[0m\u001b[0mSavedModelBuilder\u001b[0m\u001b[0;34m,\u001b[0m \u001b[0mself\u001b[0m\u001b[0;34m)\u001b[0m\u001b[0;34m.\u001b[0m\u001b[0m__init__\u001b[0m\u001b[0;34m(\u001b[0m\u001b[0mexport_dir\u001b[0m\u001b[0;34m=\u001b[0m\u001b[0mexport_dir\u001b[0m\u001b[0;34m)\u001b[0m\u001b[0;34m\u001b[0m\u001b[0;34m\u001b[0m\u001b[0m\n\u001b[0m\u001b[1;32m    426\u001b[0m \u001b[0;34m\u001b[0m\u001b[0m\n\u001b[1;32m    427\u001b[0m   \u001b[0;32mdef\u001b[0m \u001b[0m_add_collections\u001b[0m\u001b[0;34m(\u001b[0m\u001b[0mself\u001b[0m\u001b[0;34m,\u001b[0m \u001b[0massets_collection\u001b[0m\u001b[0;34m,\u001b[0m \u001b[0mmain_op\u001b[0m\u001b[0;34m,\u001b[0m \u001b[0mtrain_op\u001b[0m\u001b[0;34m)\u001b[0m\u001b[0;34m:\u001b[0m\u001b[0;34m\u001b[0m\u001b[0;34m\u001b[0m\u001b[0m\n",
            "\u001b[0;32m/usr/local/lib/python3.6/dist-packages/tensorflow/python/saved_model/builder_impl.py\u001b[0m in \u001b[0;36m__init__\u001b[0;34m(self, export_dir)\u001b[0m\n\u001b[1;32m     98\u001b[0m       raise AssertionError(\n\u001b[1;32m     99\u001b[0m           \u001b[0;34m\"Export directory already exists. Please specify a different export \"\u001b[0m\u001b[0;34m\u001b[0m\u001b[0;34m\u001b[0m\u001b[0m\n\u001b[0;32m--> 100\u001b[0;31m           \"directory: %s\" % export_dir)\n\u001b[0m\u001b[1;32m    101\u001b[0m \u001b[0;34m\u001b[0m\u001b[0m\n\u001b[1;32m    102\u001b[0m     \u001b[0mfile_io\u001b[0m\u001b[0;34m.\u001b[0m\u001b[0mrecursive_create_dir\u001b[0m\u001b[0;34m(\u001b[0m\u001b[0mself\u001b[0m\u001b[0;34m.\u001b[0m\u001b[0m_export_dir\u001b[0m\u001b[0;34m)\u001b[0m\u001b[0;34m\u001b[0m\u001b[0;34m\u001b[0m\u001b[0m\n",
            "\u001b[0;31mAssertionError\u001b[0m: Export directory already exists. Please specify a different export directory: model/1"
          ]
        }
      ]
    },
    {
      "cell_type": "markdown",
      "metadata": {
        "id": "1o8BlXcBFvIm",
        "colab_type": "text"
      },
      "source": [
        "## Paso 6: Configurar el entorno de producción"
      ]
    },
    {
      "cell_type": "markdown",
      "metadata": {
        "id": "rSFWzxOrF0ft",
        "colab_type": "text"
      },
      "source": [
        "### Exportar el MODEL_DIR a las variables de entorno"
      ]
    },
    {
      "cell_type": "code",
      "metadata": {
        "id": "BS6wsQthLX_i",
        "colab_type": "code",
        "colab": {}
      },
      "source": [
        "os.environ['MODEL_DIR'] = os.path.abspath(MODEL_DIR)"
      ],
      "execution_count": 0,
      "outputs": []
    },
    {
      "cell_type": "markdown",
      "metadata": {
        "id": "8TXejqj5F5oj",
        "colab_type": "text"
      },
      "source": [
        "### Ejecutar la API REST de TensorFlow Serving"
      ]
    },
    {
      "cell_type": "code",
      "metadata": {
        "id": "oWjUhJA4KGWy",
        "colab_type": "code",
        "outputId": "f2bed46a-8a69-4385-f890-b500f8852557",
        "colab": {
          "base_uri": "https://localhost:8080/",
          "height": 33
        }
      },
      "source": [
        "%%bash --bg\n",
        "nohup tensorflow_model_server --rest_api_port=8001 --model_name=cifar10 --model_base_path=\"${MODEL_DIR}\" >server.log 2>&1"
      ],
      "execution_count": 28,
      "outputs": [
        {
          "output_type": "stream",
          "text": [
            "Starting job # 3 in a separate thread.\n"
          ],
          "name": "stdout"
        }
      ]
    },
    {
      "cell_type": "code",
      "metadata": {
        "id": "iPa7fGZ5NHL5",
        "colab_type": "code",
        "outputId": "6c947ecf-c41a-43fe-eed7-d7f3f0e91ce0",
        "colab": {
          "base_uri": "https://localhost:8080/",
          "height": 200
        }
      },
      "source": [
        "!tail server.log"
      ],
      "execution_count": 29,
      "outputs": [
        {
          "output_type": "stream",
          "text": [
            "2020-06-10 11:39:55.303645: I external/org_tensorflow/tensorflow/cc/saved_model/loader.cc:295] Reading SavedModel debug info (if present) from: /content/model/1\n",
            "2020-06-10 11:39:55.303710: I external/org_tensorflow/tensorflow/core/platform/cpu_feature_guard.cc:143] Your CPU supports instructions that this TensorFlow binary was not compiled to use: AVX2 AVX512F FMA\n",
            "2020-06-10 11:39:55.320783: I external/org_tensorflow/tensorflow/cc/saved_model/loader.cc:234] Restoring SavedModel bundle.\n",
            "2020-06-10 11:39:55.348976: I external/org_tensorflow/tensorflow/cc/saved_model/loader.cc:364] SavedModel load for tags { serve }; Status: success: OK. Took 48409 microseconds.\n",
            "2020-06-10 11:39:55.350077: I tensorflow_serving/servables/tensorflow/saved_model_warmup.cc:105] No warmup data file found at /content/model/1/assets.extra/tf_serving_warmup_requests\n",
            "2020-06-10 11:39:55.350172: I tensorflow_serving/core/loader_harness.cc:87] Successfully loaded servable version {name: cifar10 version: 1}\n",
            "2020-06-10 11:39:55.351158: I tensorflow_serving/model_servers/server.cc:355] Running gRPC ModelServer at 0.0.0.0:8500 ...\n",
            "[warn] getaddrinfo: address family for nodename not supported\n",
            "2020-06-10 11:39:55.351760: I tensorflow_serving/model_servers/server.cc:375] Exporting HTTP/REST API at:localhost:8001 ...\n",
            "[evhttp_server.cc : 238] NET_LOG: Entering the event loop ...\n"
          ],
          "name": "stdout"
        }
      ]
    },
    {
      "cell_type": "markdown",
      "metadata": {
        "id": "ICEqKpKUOC2F",
        "colab_type": "text"
      },
      "source": [
        "## Paso 7: Crear nuestra primera petición por POST"
      ]
    },
    {
      "cell_type": "code",
      "metadata": {
        "id": "AvjZyyPIN3Zq",
        "colab_type": "code",
        "outputId": "913965b4-7ea8-45b2-a100-4992087fa01c",
        "colab": {
          "base_uri": "https://localhost:8080/",
          "height": 33
        }
      },
      "source": [
        "random_image = np.random.randint(0, len(X_test))\n",
        "random_image"
      ],
      "execution_count": 30,
      "outputs": [
        {
          "output_type": "execute_result",
          "data": {
            "text/plain": [
              "7853"
            ]
          },
          "metadata": {
            "tags": []
          },
          "execution_count": 30
        }
      ]
    },
    {
      "cell_type": "markdown",
      "metadata": {
        "id": "tqOfIBMNOK8p",
        "colab_type": "text"
      },
      "source": [
        "### Crear el objeto de datos en JSON"
      ]
    },
    {
      "cell_type": "code",
      "metadata": {
        "id": "nB57JR6wONOI",
        "colab_type": "code",
        "colab": {}
      },
      "source": [
        "data = json.dumps({\"signature_name\":\"serving_default\", \"instances\":[X_test[random_image].tolist()]})"
      ],
      "execution_count": 0,
      "outputs": []
    },
    {
      "cell_type": "code",
      "metadata": {
        "id": "ez6JF3yIPdYZ",
        "colab_type": "code",
        "outputId": "2f4d9f09-6e1f-4830-d5af-31f45b5f1ffe",
        "colab": {
          "base_uri": "https://localhost:8080/",
          "height": 53
        }
      },
      "source": [
        "data"
      ],
      "execution_count": 33,
      "outputs": [
        {
          "output_type": "execute_result",
          "data": {
            "text/plain": [
              "'{\"signature_name\": \"serving_default\", \"instances\": [[[[0.15294117647058825, 0.15294117647058825, 0.12156862745098039], [0.15294117647058825, 0.15294117647058825, 0.12156862745098039], [0.14901960784313725, 0.14901960784313725, 0.11764705882352941], [0.1450980392156863, 0.1450980392156863, 0.11372549019607843], [0.1411764705882353, 0.1411764705882353, 0.10980392156862745], [0.13725490196078433, 0.1411764705882353, 0.10980392156862745], [0.13725490196078433, 0.1411764705882353, 0.10980392156862745], [0.13725490196078433, 0.1411764705882353, 0.10980392156862745], [0.13725490196078433, 0.1411764705882353, 0.10980392156862745], [0.13333333333333333, 0.13725490196078433, 0.10588235294117647], [0.12941176470588237, 0.13333333333333333, 0.10196078431372549], [0.12941176470588237, 0.13333333333333333, 0.10196078431372549], [0.12941176470588237, 0.13333333333333333, 0.10196078431372549], [0.12941176470588237, 0.13333333333333333, 0.10196078431372549], [0.12941176470588237, 0.13333333333333333, 0.10588235294117647], [0.12941176470588237, 0.13333333333333333, 0.10980392156862745], [0.13333333333333333, 0.13725490196078433, 0.11372549019607843], [0.13725490196078433, 0.1411764705882353, 0.11764705882352941], [0.15294117647058825, 0.1568627450980392, 0.13333333333333333], [0.1450980392156863, 0.14901960784313725, 0.12549019607843137], [0.13725490196078433, 0.1411764705882353, 0.11372549019607843], [0.12941176470588237, 0.13333333333333333, 0.10588235294117647], [0.13333333333333333, 0.13725490196078433, 0.10588235294117647], [0.13725490196078433, 0.1411764705882353, 0.10980392156862745], [0.13725490196078433, 0.1411764705882353, 0.10980392156862745], [0.13725490196078433, 0.1411764705882353, 0.10980392156862745], [0.13725490196078433, 0.1411764705882353, 0.10980392156862745], [0.1411764705882353, 0.1450980392156863, 0.11372549019607843], [0.14901960784313725, 0.15294117647058825, 0.12156862745098039], [0.15294117647058825, 0.1568627450980392, 0.12549019607843137], [0.1568627450980392, 0.1607843137254902, 0.12941176470588237], [0.1411764705882353, 0.1450980392156863, 0.11764705882352941]], [[0.1450980392156863, 0.1450980392156863, 0.11372549019607843], [0.1450980392156863, 0.1450980392156863, 0.11372549019607843], [0.1411764705882353, 0.1411764705882353, 0.10980392156862745], [0.13725490196078433, 0.13725490196078433, 0.10588235294117647], [0.13333333333333333, 0.13725490196078433, 0.10588235294117647], [0.13333333333333333, 0.13333333333333333, 0.10196078431372549], [0.13333333333333333, 0.13333333333333333, 0.10196078431372549], [0.13333333333333333, 0.13333333333333333, 0.10196078431372549], [0.12941176470588237, 0.13333333333333333, 0.10196078431372549], [0.12941176470588237, 0.13333333333333333, 0.10196078431372549], [0.12549019607843137, 0.12941176470588237, 0.09803921568627451], [0.12549019607843137, 0.12941176470588237, 0.09803921568627451], [0.12549019607843137, 0.12941176470588237, 0.09803921568627451], [0.12549019607843137, 0.12941176470588237, 0.09803921568627451], [0.12549019607843137, 0.12941176470588237, 0.10196078431372549], [0.12941176470588237, 0.13333333333333333, 0.10588235294117647], [0.13333333333333333, 0.13725490196078433, 0.10980392156862745], [0.13333333333333333, 0.13725490196078433, 0.11372549019607843], [0.13725490196078433, 0.1411764705882353, 0.11764705882352941], [0.13333333333333333, 0.13725490196078433, 0.11372549019607843], [0.12941176470588237, 0.13333333333333333, 0.10588235294117647], [0.12941176470588237, 0.13333333333333333, 0.10196078431372549], [0.12941176470588237, 0.13333333333333333, 0.10196078431372549], [0.12941176470588237, 0.13333333333333333, 0.10196078431372549], [0.12941176470588237, 0.13333333333333333, 0.10588235294117647], [0.12941176470588237, 0.13333333333333333, 0.10588235294117647], [0.13333333333333333, 0.13725490196078433, 0.10588235294117647], [0.13725490196078433, 0.1411764705882353, 0.10980392156862745], [0.1411764705882353, 0.1450980392156863, 0.11372549019607843], [0.14901960784313725, 0.15294117647058825, 0.12156862745098039], [0.14901960784313725, 0.15294117647058825, 0.12156862745098039], [0.13725490196078433, 0.13725490196078433, 0.10980392156862745]], [[0.1411764705882353, 0.1411764705882353, 0.10980392156862745], [0.1411764705882353, 0.1411764705882353, 0.10980392156862745], [0.13725490196078433, 0.13725490196078433, 0.10588235294117647], [0.13333333333333333, 0.13333333333333333, 0.10196078431372549], [0.13333333333333333, 0.12941176470588237, 0.09803921568627451], [0.12941176470588237, 0.12941176470588237, 0.09803921568627451], [0.12941176470588237, 0.12941176470588237, 0.09803921568627451], [0.12941176470588237, 0.12941176470588237, 0.09803921568627451], [0.12941176470588237, 0.12941176470588237, 0.09803921568627451], [0.12549019607843137, 0.12549019607843137, 0.09803921568627451], [0.12156862745098039, 0.12549019607843137, 0.09803921568627451], [0.12549019607843137, 0.12549019607843137, 0.09803921568627451], [0.12549019607843137, 0.12941176470588237, 0.10196078431372549], [0.12549019607843137, 0.12941176470588237, 0.10196078431372549], [0.12941176470588237, 0.13333333333333333, 0.10588235294117647], [0.12549019607843137, 0.12941176470588237, 0.10196078431372549], [0.12156862745098039, 0.12549019607843137, 0.10196078431372549], [0.12156862745098039, 0.12549019607843137, 0.10196078431372549], [0.12549019607843137, 0.12941176470588237, 0.10588235294117647], [0.12549019607843137, 0.12941176470588237, 0.10588235294117647], [0.12549019607843137, 0.12941176470588237, 0.10588235294117647], [0.12941176470588237, 0.13333333333333333, 0.10588235294117647], [0.12549019607843137, 0.12941176470588237, 0.10196078431372549], [0.12549019607843137, 0.12941176470588237, 0.10196078431372549], [0.12549019607843137, 0.12941176470588237, 0.10196078431372549], [0.12549019607843137, 0.12941176470588237, 0.10196078431372549], [0.12941176470588237, 0.13333333333333333, 0.10588235294117647], [0.12941176470588237, 0.13333333333333333, 0.10588235294117647], [0.13333333333333333, 0.13725490196078433, 0.10980392156862745], [0.13725490196078433, 0.1411764705882353, 0.11372549019607843], [0.1450980392156863, 0.1450980392156863, 0.11764705882352941], [0.13333333333333333, 0.13333333333333333, 0.10980392156862745]], [[0.13333333333333333, 0.13333333333333333, 0.10196078431372549], [0.13333333333333333, 0.13333333333333333, 0.10196078431372549], [0.13333333333333333, 0.13333333333333333, 0.10196078431372549], [0.13333333333333333, 0.13333333333333333, 0.10196078431372549], [0.13333333333333333, 0.12941176470588237, 0.10196078431372549], [0.13333333333333333, 0.12941176470588237, 0.10196078431372549], [0.1411764705882353, 0.13725490196078433, 0.10980392156862745], [0.1411764705882353, 0.13725490196078433, 0.10980392156862745], [0.13725490196078433, 0.13725490196078433, 0.10588235294117647], [0.13333333333333333, 0.13333333333333333, 0.10588235294117647], [0.12549019607843137, 0.12549019607843137, 0.10196078431372549], [0.12549019607843137, 0.12941176470588237, 0.10588235294117647], [0.12941176470588237, 0.13333333333333333, 0.10980392156862745], [0.12941176470588237, 0.13333333333333333, 0.10980392156862745], [0.12941176470588237, 0.13333333333333333, 0.10980392156862745], [0.12156862745098039, 0.12549019607843137, 0.10196078431372549], [0.11764705882352941, 0.12156862745098039, 0.09803921568627451], [0.12156862745098039, 0.12549019607843137, 0.10196078431372549], [0.12549019607843137, 0.12941176470588237, 0.10588235294117647], [0.12549019607843137, 0.12941176470588237, 0.10588235294117647], [0.12549019607843137, 0.12941176470588237, 0.10588235294117647], [0.12549019607843137, 0.12941176470588237, 0.10588235294117647], [0.12549019607843137, 0.12941176470588237, 0.10588235294117647], [0.12549019607843137, 0.12941176470588237, 0.10588235294117647], [0.12549019607843137, 0.12941176470588237, 0.10588235294117647], [0.12549019607843137, 0.12941176470588237, 0.10588235294117647], [0.12941176470588237, 0.13333333333333333, 0.10980392156862745], [0.12941176470588237, 0.13333333333333333, 0.10980392156862745], [0.13333333333333333, 0.13725490196078433, 0.11372549019607843], [0.13725490196078433, 0.1411764705882353, 0.11764705882352941], [0.1411764705882353, 0.1450980392156863, 0.12156862745098039], [0.12941176470588237, 0.13333333333333333, 0.10980392156862745]], [[0.12941176470588237, 0.12941176470588237, 0.09803921568627451], [0.12941176470588237, 0.12941176470588237, 0.09803921568627451], [0.12941176470588237, 0.12941176470588237, 0.09803921568627451], [0.12941176470588237, 0.12941176470588237, 0.09803921568627451], [0.12941176470588237, 0.13333333333333333, 0.10588235294117647], [0.13333333333333333, 0.13725490196078433, 0.11372549019607843], [0.13725490196078433, 0.1450980392156863, 0.12156862745098039], [0.1411764705882353, 0.1450980392156863, 0.12549019607843137], [0.13725490196078433, 0.1450980392156863, 0.12156862745098039], [0.13333333333333333, 0.13725490196078433, 0.11372549019607843], [0.12549019607843137, 0.12941176470588237, 0.10588235294117647], [0.12549019607843137, 0.12941176470588237, 0.10588235294117647], [0.12549019607843137, 0.12941176470588237, 0.10588235294117647], [0.12549019607843137, 0.12941176470588237, 0.10588235294117647], [0.12156862745098039, 0.12549019607843137, 0.10196078431372549], [0.12156862745098039, 0.12549019607843137, 0.10196078431372549], [0.12156862745098039, 0.12549019607843137, 0.10196078431372549], [0.12156862745098039, 0.12549019607843137, 0.10196078431372549], [0.12156862745098039, 0.12549019607843137, 0.10196078431372549], [0.12156862745098039, 0.12549019607843137, 0.10196078431372549], [0.12156862745098039, 0.12549019607843137, 0.10196078431372549], [0.12156862745098039, 0.12549019607843137, 0.10196078431372549], [0.12156862745098039, 0.12549019607843137, 0.10196078431372549], [0.12549019607843137, 0.12941176470588237, 0.10588235294117647], [0.12549019607843137, 0.12941176470588237, 0.10588235294117647], [0.12549019607843137, 0.12941176470588237, 0.10588235294117647], [0.12941176470588237, 0.13333333333333333, 0.10980392156862745], [0.12941176470588237, 0.13333333333333333, 0.10980392156862745], [0.12941176470588237, 0.13333333333333333, 0.10980392156862745], [0.13333333333333333, 0.13725490196078433, 0.11372549019607843], [0.1411764705882353, 0.1450980392156863, 0.12156862745098039], [0.12941176470588237, 0.13333333333333333, 0.10980392156862745]], [[0.12941176470588237, 0.12941176470588237, 0.09803921568627451], [0.12941176470588237, 0.12941176470588237, 0.09803921568627451], [0.12941176470588237, 0.12941176470588237, 0.09803921568627451], [0.12549019607843137, 0.12941176470588237, 0.09803921568627451], [0.12549019607843137, 0.13333333333333333, 0.10980392156862745], [0.13333333333333333, 0.1450980392156863, 0.12941176470588237], [0.1568627450980392, 0.16862745098039217, 0.15294117647058825], [0.1843137254901961, 0.19607843137254902, 0.1843137254901961], [0.2, 0.21176470588235294, 0.2], [0.18823529411764706, 0.20392156862745098, 0.18823529411764706], [0.1450980392156863, 0.15294117647058825, 0.13333333333333333], [0.12156862745098039, 0.12941176470588237, 0.10588235294117647], [0.11764705882352941, 0.12156862745098039, 0.09803921568627451], [0.12156862745098039, 0.12549019607843137, 0.09803921568627451], [0.12156862745098039, 0.12156862745098039, 0.10196078431372549], [0.12156862745098039, 0.12549019607843137, 0.10588235294117647], [0.12156862745098039, 0.12549019607843137, 0.10588235294117647], [0.12156862745098039, 0.12549019607843137, 0.10588235294117647], [0.12156862745098039, 0.12156862745098039, 0.10196078431372549], [0.11764705882352941, 0.12156862745098039, 0.10196078431372549], [0.11764705882352941, 0.12156862745098039, 0.10196078431372549], [0.11764705882352941, 0.12156862745098039, 0.09803921568627451], [0.11764705882352941, 0.12156862745098039, 0.10196078431372549], [0.12156862745098039, 0.12549019607843137, 0.10196078431372549], [0.12549019607843137, 0.12941176470588237, 0.10588235294117647], [0.12549019607843137, 0.12941176470588237, 0.10588235294117647], [0.12941176470588237, 0.13333333333333333, 0.10980392156862745], [0.12941176470588237, 0.13333333333333333, 0.10980392156862745], [0.12941176470588237, 0.13333333333333333, 0.10980392156862745], [0.13333333333333333, 0.13725490196078433, 0.11372549019607843], [0.13725490196078433, 0.1411764705882353, 0.11764705882352941], [0.12941176470588237, 0.12941176470588237, 0.10588235294117647]], [[0.12549019607843137, 0.12549019607843137, 0.09803921568627451], [0.12549019607843137, 0.12549019607843137, 0.09411764705882353], [0.12156862745098039, 0.12156862745098039, 0.09019607843137255], [0.12156862745098039, 0.12156862745098039, 0.09411764705882353], [0.12549019607843137, 0.13333333333333333, 0.11372549019607843], [0.14901960784313725, 0.1607843137254902, 0.15294117647058825], [0.19215686274509805, 0.20784313725490197, 0.21176470588235294], [0.24313725490196078, 0.26666666666666666, 0.2823529411764706], [0.30196078431372547, 0.3333333333333333, 0.3568627450980392], [0.3254901960784314, 0.35294117647058826, 0.37254901960784315], [0.25882352941176473, 0.26666666666666666, 0.2627450980392157], [0.16862745098039217, 0.17254901960784313, 0.14901960784313725], [0.12549019607843137, 0.12941176470588237, 0.09803921568627451], [0.11764705882352941, 0.12156862745098039, 0.09411764705882353], [0.11764705882352941, 0.11764705882352941, 0.10196078431372549], [0.12156862745098039, 0.12156862745098039, 0.10980392156862745], [0.12549019607843137, 0.12549019607843137, 0.11372549019607843], [0.12549019607843137, 0.12549019607843137, 0.11372549019607843], [0.12156862745098039, 0.12549019607843137, 0.10980392156862745], [0.12156862745098039, 0.12549019607843137, 0.10980392156862745], [0.12156862745098039, 0.12156862745098039, 0.10980392156862745], [0.11764705882352941, 0.11764705882352941, 0.10588235294117647], [0.11764705882352941, 0.12156862745098039, 0.10588235294117647], [0.12156862745098039, 0.12549019607843137, 0.10980392156862745], [0.12549019607843137, 0.12549019607843137, 0.11372549019607843], [0.12549019607843137, 0.12941176470588237, 0.11372549019607843], [0.12549019607843137, 0.12941176470588237, 0.10980392156862745], [0.12549019607843137, 0.12941176470588237, 0.10588235294117647], [0.12549019607843137, 0.12941176470588237, 0.10588235294117647], [0.12941176470588237, 0.13333333333333333, 0.10980392156862745], [0.13333333333333333, 0.13725490196078433, 0.11372549019607843], [0.12156862745098039, 0.12549019607843137, 0.10196078431372549]], [[0.12156862745098039, 0.12156862745098039, 0.09019607843137255], [0.12156862745098039, 0.12156862745098039, 0.09019607843137255], [0.11764705882352941, 0.11764705882352941, 0.08627450980392157], [0.11764705882352941, 0.11764705882352941, 0.08627450980392157], [0.12941176470588237, 0.12941176470588237, 0.10588235294117647], [0.14901960784313725, 0.1607843137254902, 0.14901960784313725], [0.18823529411764706, 0.21568627450980393, 0.22745098039215686], [0.24313725490196078, 0.2823529411764706, 0.3137254901960784], [0.32941176470588235, 0.36470588235294116, 0.403921568627451], [0.43137254901960786, 0.44313725490196076, 0.4745098039215686], [0.5333333333333333, 0.49019607843137253, 0.49019607843137253], [0.3411764705882353, 0.3137254901960784, 0.29411764705882354], [0.2, 0.18823529411764706, 0.1568627450980392], [0.12549019607843137, 0.12549019607843137, 0.09803921568627451], [0.11764705882352941, 0.12156862745098039, 0.10588235294117647], [0.12156862745098039, 0.12549019607843137, 0.11372549019607843], [0.12549019607843137, 0.12549019607843137, 0.11764705882352941], [0.12549019607843137, 0.12549019607843137, 0.11764705882352941], [0.12549019607843137, 0.12549019607843137, 0.11764705882352941], [0.12549019607843137, 0.12549019607843137, 0.11764705882352941], [0.12156862745098039, 0.12156862745098039, 0.11372549019607843], [0.11764705882352941, 0.11764705882352941, 0.10980392156862745], [0.11764705882352941, 0.11764705882352941, 0.10980392156862745], [0.12156862745098039, 0.12156862745098039, 0.11372549019607843], [0.12549019607843137, 0.12549019607843137, 0.11372549019607843], [0.12549019607843137, 0.12549019607843137, 0.11372549019607843], [0.12549019607843137, 0.12941176470588237, 0.10980392156862745], [0.12549019607843137, 0.12941176470588237, 0.10588235294117647], [0.12549019607843137, 0.12941176470588237, 0.10588235294117647], [0.12941176470588237, 0.13333333333333333, 0.10980392156862745], [0.12941176470588237, 0.13333333333333333, 0.10980392156862745], [0.11764705882352941, 0.12156862745098039, 0.09803921568627451]], [[0.11764705882352941, 0.11764705882352941, 0.09019607843137255], [0.11764705882352941, 0.11764705882352941, 0.08627450980392157], [0.11764705882352941, 0.11764705882352941, 0.08627450980392157], [0.11764705882352941, 0.11764705882352941, 0.08235294117647059], [0.12156862745098039, 0.12156862745098039, 0.09019607843137255], [0.13333333333333333, 0.1450980392156863, 0.12156862745098039], [0.1607843137254902, 0.19215686274509805, 0.19215686274509805], [0.21176470588235294, 0.23529411764705882, 0.23921568627450981], [0.3803921568627451, 0.3764705882352941, 0.3686274509803922], [0.5568627450980392, 0.5137254901960784, 0.49411764705882355], [0.6196078431372549, 0.5372549019607843, 0.5058823529411764], [0.35294117647058826, 0.30980392156862746, 0.2784313725490196], [0.18823529411764706, 0.17647058823529413, 0.14901960784313725], [0.13333333333333333, 0.13725490196078433, 0.11372549019607843], [0.13333333333333333, 0.13333333333333333, 0.11372549019607843], [0.12549019607843137, 0.12549019607843137, 0.11372549019607843], [0.12156862745098039, 0.12156862745098039, 0.11372549019607843], [0.12549019607843137, 0.12549019607843137, 0.11764705882352941], [0.12941176470588237, 0.12941176470588237, 0.12156862745098039], [0.12941176470588237, 0.12941176470588237, 0.12156862745098039], [0.12549019607843137, 0.12549019607843137, 0.11764705882352941], [0.12156862745098039, 0.12156862745098039, 0.11372549019607843], [0.12156862745098039, 0.12156862745098039, 0.11372549019607843], [0.12156862745098039, 0.12156862745098039, 0.11372549019607843], [0.11764705882352941, 0.12156862745098039, 0.10980392156862745], [0.12156862745098039, 0.12156862745098039, 0.10980392156862745], [0.12549019607843137, 0.12549019607843137, 0.10588235294117647], [0.12549019607843137, 0.12941176470588237, 0.10588235294117647], [0.12549019607843137, 0.12941176470588237, 0.10588235294117647], [0.12549019607843137, 0.12941176470588237, 0.10588235294117647], [0.12941176470588237, 0.13333333333333333, 0.10588235294117647], [0.11372549019607843, 0.11764705882352941, 0.09411764705882353]], [[0.11764705882352941, 0.11764705882352941, 0.08627450980392157], [0.11764705882352941, 0.11764705882352941, 0.08627450980392157], [0.11764705882352941, 0.11764705882352941, 0.08627450980392157], [0.11764705882352941, 0.11372549019607843, 0.08235294117647059], [0.11372549019607843, 0.11372549019607843, 0.0784313725490196], [0.10980392156862745, 0.12156862745098039, 0.09019607843137255], [0.11372549019607843, 0.13333333333333333, 0.11764705882352941], [0.22745098039215686, 0.20784313725490197, 0.16862745098039217], [0.47058823529411764, 0.40784313725490196, 0.33725490196078434], [0.6235294117647059, 0.5333333333333333, 0.45098039215686275], [0.396078431372549, 0.3411764705882353, 0.2823529411764706], [0.20392156862745098, 0.1843137254901961, 0.1411764705882353], [0.11764705882352941, 0.12156862745098039, 0.08627450980392157], [0.10980392156862745, 0.11764705882352941, 0.09019607843137255], [0.12156862745098039, 0.12156862745098039, 0.09803921568627451], [0.11764705882352941, 0.11372549019607843, 0.09803921568627451], [0.11372549019607843, 0.11372549019607843, 0.10196078431372549], [0.11764705882352941, 0.11764705882352941, 0.10588235294117647], [0.12156862745098039, 0.12156862745098039, 0.11372549019607843], [0.12549019607843137, 0.12549019607843137, 0.11372549019607843], [0.12549019607843137, 0.12549019607843137, 0.11764705882352941], [0.12549019607843137, 0.12549019607843137, 0.11372549019607843], [0.12549019607843137, 0.12549019607843137, 0.11372549019607843], [0.12156862745098039, 0.12156862745098039, 0.10980392156862745], [0.11764705882352941, 0.12156862745098039, 0.10588235294117647], [0.11764705882352941, 0.12156862745098039, 0.10588235294117647], [0.12156862745098039, 0.12549019607843137, 0.10588235294117647], [0.12549019607843137, 0.12941176470588237, 0.10588235294117647], [0.12549019607843137, 0.12941176470588237, 0.10588235294117647], [0.12156862745098039, 0.12549019607843137, 0.10196078431372549], [0.12156862745098039, 0.12549019607843137, 0.10196078431372549], [0.10980392156862745, 0.11372549019607843, 0.09019607843137255]], [[0.11372549019607843, 0.11372549019607843, 0.08235294117647059], [0.11372549019607843, 0.11372549019607843, 0.08235294117647059], [0.11372549019607843, 0.11372549019607843, 0.08235294117647059], [0.11764705882352941, 0.11372549019607843, 0.0784313725490196], [0.11764705882352941, 0.11372549019607843, 0.0784313725490196], [0.11372549019607843, 0.11372549019607843, 0.08235294117647059], [0.10588235294117647, 0.11764705882352941, 0.09803921568627451], [0.2901960784313726, 0.24705882352941178, 0.18823529411764706], [0.5333333333333333, 0.44313725490196076, 0.34509803921568627], [0.6196078431372549, 0.5137254901960784, 0.40784313725490196], [0.2549019607843137, 0.21568627450980393, 0.1803921568627451], [0.15294117647058825, 0.13725490196078433, 0.10588235294117647], [0.10980392156862745, 0.10980392156862745, 0.0784313725490196], [0.10196078431372549, 0.10980392156862745, 0.0784313725490196], [0.09803921568627451, 0.10980392156862745, 0.0784313725490196], [0.10196078431372549, 0.10588235294117647, 0.08235294117647059], [0.10588235294117647, 0.10196078431372549, 0.08235294117647059], [0.10588235294117647, 0.10196078431372549, 0.08235294117647059], [0.10588235294117647, 0.10196078431372549, 0.08627450980392157], [0.10980392156862745, 0.10588235294117647, 0.08627450980392157], [0.10980392156862745, 0.10980392156862745, 0.09019607843137255], [0.10980392156862745, 0.11372549019607843, 0.09019607843137255], [0.11372549019607843, 0.11764705882352941, 0.09411764705882353], [0.11764705882352941, 0.12156862745098039, 0.09803921568627451], [0.11764705882352941, 0.12156862745098039, 0.10196078431372549], [0.11764705882352941, 0.12156862745098039, 0.10196078431372549], [0.12156862745098039, 0.12549019607843137, 0.10196078431372549], [0.12156862745098039, 0.12549019607843137, 0.10196078431372549], [0.12549019607843137, 0.12941176470588237, 0.10588235294117647], [0.12549019607843137, 0.12941176470588237, 0.10588235294117647], [0.12156862745098039, 0.12549019607843137, 0.09803921568627451], [0.10980392156862745, 0.10980392156862745, 0.08627450980392157]], [[0.11372549019607843, 0.11372549019607843, 0.08235294117647059], [0.11372549019607843, 0.11372549019607843, 0.08235294117647059], [0.11372549019607843, 0.11372549019607843, 0.08235294117647059], [0.11764705882352941, 0.11372549019607843, 0.0784313725490196], [0.11764705882352941, 0.11372549019607843, 0.08235294117647059], [0.11372549019607843, 0.11372549019607843, 0.08627450980392157], [0.11372549019607843, 0.11764705882352941, 0.09411764705882353], [0.2980392156862745, 0.23921568627450981, 0.16862745098039217], [0.5333333333333333, 0.4117647058823529, 0.2901960784313726], [0.6392156862745098, 0.4823529411764706, 0.3333333333333333], [0.37254901960784315, 0.2627450980392157, 0.1607843137254902], [0.2, 0.16470588235294117, 0.11372549019607843], [0.11372549019607843, 0.12156862745098039, 0.10196078431372549], [0.09411764705882353, 0.11372549019607843, 0.09803921568627451], [0.11372549019607843, 0.10588235294117647, 0.07450980392156863], [0.10980392156862745, 0.10588235294117647, 0.0784313725490196], [0.10980392156862745, 0.10588235294117647, 0.08235294117647059], [0.10980392156862745, 0.10588235294117647, 0.08235294117647059], [0.10588235294117647, 0.10196078431372549, 0.08235294117647059], [0.10588235294117647, 0.10196078431372549, 0.08235294117647059], [0.10588235294117647, 0.10196078431372549, 0.08235294117647059], [0.10196078431372549, 0.10588235294117647, 0.08235294117647059], [0.10588235294117647, 0.10588235294117647, 0.08235294117647059], [0.10588235294117647, 0.10980392156862745, 0.08627450980392157], [0.10588235294117647, 0.10980392156862745, 0.08627450980392157], [0.10588235294117647, 0.10980392156862745, 0.08627450980392157], [0.10980392156862745, 0.11372549019607843, 0.09019607843137255], [0.11372549019607843, 0.11764705882352941, 0.09411764705882353], [0.11764705882352941, 0.12156862745098039, 0.09803921568627451], [0.11764705882352941, 0.12156862745098039, 0.09803921568627451], [0.11372549019607843, 0.11764705882352941, 0.09411764705882353], [0.10588235294117647, 0.10588235294117647, 0.08235294117647059]], [[0.11372549019607843, 0.11372549019607843, 0.08235294117647059], [0.11372549019607843, 0.11372549019607843, 0.08235294117647059], [0.11372549019607843, 0.11372549019607843, 0.08235294117647059], [0.11372549019607843, 0.11372549019607843, 0.08235294117647059], [0.11372549019607843, 0.11372549019607843, 0.08627450980392157], [0.11372549019607843, 0.11372549019607843, 0.08627450980392157], [0.11764705882352941, 0.11764705882352941, 0.08627450980392157], [0.3137254901960784, 0.23921568627450981, 0.1568627450980392], [0.5333333333333333, 0.3843137254901961, 0.23529411764705882], [0.6941176470588235, 0.48627450980392156, 0.2901960784313726], [0.6784313725490196, 0.4823529411764706, 0.2901960784313726], [0.5137254901960784, 0.38823529411764707, 0.2549019607843137], [0.3215686274509804, 0.25882352941176473, 0.1803921568627451], [0.1607843137254902, 0.13725490196078433, 0.09803921568627451], [0.12156862745098039, 0.10980392156862745, 0.08627450980392157], [0.11764705882352941, 0.10980392156862745, 0.09019607843137255], [0.11372549019607843, 0.10980392156862745, 0.09019607843137255], [0.11372549019607843, 0.10980392156862745, 0.09019607843137255], [0.11372549019607843, 0.10980392156862745, 0.09019607843137255], [0.11372549019607843, 0.10980392156862745, 0.09019607843137255], [0.10980392156862745, 0.10980392156862745, 0.08627450980392157], [0.10196078431372549, 0.10588235294117647, 0.08235294117647059], [0.10196078431372549, 0.10588235294117647, 0.08235294117647059], [0.10196078431372549, 0.10588235294117647, 0.08235294117647059], [0.10196078431372549, 0.10588235294117647, 0.08235294117647059], [0.10196078431372549, 0.10588235294117647, 0.08235294117647059], [0.10588235294117647, 0.10980392156862745, 0.08627450980392157], [0.10980392156862745, 0.11372549019607843, 0.09019607843137255], [0.10980392156862745, 0.11372549019607843, 0.09019607843137255], [0.11372549019607843, 0.11764705882352941, 0.09411764705882353], [0.11372549019607843, 0.11764705882352941, 0.09411764705882353], [0.10588235294117647, 0.10588235294117647, 0.08235294117647059]], [[0.11372549019607843, 0.11372549019607843, 0.08627450980392157], [0.11372549019607843, 0.11372549019607843, 0.08627450980392157], [0.11372549019607843, 0.11372549019607843, 0.08627450980392157], [0.11764705882352941, 0.11372549019607843, 0.08627450980392157], [0.11372549019607843, 0.11372549019607843, 0.08627450980392157], [0.11372549019607843, 0.11372549019607843, 0.09019607843137255], [0.12156862745098039, 0.11764705882352941, 0.09019607843137255], [0.3764705882352941, 0.29411764705882354, 0.21176470588235294], [0.615686274509804, 0.4470588235294118, 0.29411764705882354], [0.792156862745098, 0.5607843137254902, 0.3568627450980392], [0.8549019607843137, 0.6313725490196078, 0.41568627450980394], [0.8235294117647058, 0.6235294117647059, 0.42745098039215684], [0.6549019607843137, 0.4980392156862745, 0.3411764705882353], [0.396078431372549, 0.2980392156862745, 0.2], [0.16470588235294117, 0.1450980392156863, 0.11372549019607843], [0.12156862745098039, 0.11764705882352941, 0.09803921568627451], [0.11372549019607843, 0.11372549019607843, 0.09411764705882353], [0.11372549019607843, 0.10980392156862745, 0.09019607843137255], [0.11372549019607843, 0.10980392156862745, 0.09019607843137255], [0.11372549019607843, 0.10980392156862745, 0.09019607843137255], [0.10980392156862745, 0.10980392156862745, 0.09019607843137255], [0.10588235294117647, 0.10588235294117647, 0.08627450980392157], [0.10588235294117647, 0.10588235294117647, 0.08627450980392157], [0.10588235294117647, 0.10588235294117647, 0.08627450980392157], [0.10588235294117647, 0.10980392156862745, 0.08627450980392157], [0.10588235294117647, 0.10980392156862745, 0.08627450980392157], [0.10980392156862745, 0.10980392156862745, 0.09019607843137255], [0.10980392156862745, 0.11372549019607843, 0.09019607843137255], [0.11372549019607843, 0.11372549019607843, 0.09019607843137255], [0.11372549019607843, 0.11372549019607843, 0.09411764705882353], [0.11764705882352941, 0.11764705882352941, 0.09411764705882353], [0.10588235294117647, 0.10588235294117647, 0.08235294117647059]], [[0.11372549019607843, 0.10980392156862745, 0.09019607843137255], [0.11764705882352941, 0.11372549019607843, 0.09411764705882353], [0.11764705882352941, 0.11372549019607843, 0.09411764705882353], [0.11764705882352941, 0.11372549019607843, 0.09019607843137255], [0.11372549019607843, 0.11372549019607843, 0.09019607843137255], [0.11372549019607843, 0.11372549019607843, 0.09019607843137255], [0.12156862745098039, 0.11764705882352941, 0.09411764705882353], [0.3764705882352941, 0.30196078431372547, 0.23137254901960785], [0.615686274509804, 0.4588235294117647, 0.3333333333333333], [0.796078431372549, 0.5882352941176471, 0.4117647058823529], [0.8705882352941177, 0.6705882352941176, 0.47843137254901963], [0.8862745098039215, 0.6862745098039216, 0.49411764705882355], [0.8274509803921568, 0.6431372549019608, 0.4627450980392157], [0.6627450980392157, 0.5176470588235295, 0.3686274509803922], [0.2980392156862745, 0.24705882352941178, 0.17647058823529413], [0.17254901960784313, 0.1568627450980392, 0.12156862745098039], [0.12549019607843137, 0.12156862745098039, 0.09803921568627451], [0.11764705882352941, 0.11372549019607843, 0.09411764705882353], [0.11372549019607843, 0.10980392156862745, 0.09019607843137255], [0.11372549019607843, 0.10980392156862745, 0.09019607843137255], [0.11372549019607843, 0.10980392156862745, 0.09019607843137255], [0.11372549019607843, 0.10980392156862745, 0.09019607843137255], [0.11372549019607843, 0.10980392156862745, 0.09019607843137255], [0.11372549019607843, 0.10980392156862745, 0.09019607843137255], [0.11372549019607843, 0.10980392156862745, 0.09019607843137255], [0.11372549019607843, 0.10980392156862745, 0.09019607843137255], [0.11372549019607843, 0.10980392156862745, 0.09019607843137255], [0.11372549019607843, 0.10980392156862745, 0.09019607843137255], [0.11372549019607843, 0.10980392156862745, 0.09019607843137255], [0.11764705882352941, 0.11372549019607843, 0.09411764705882353], [0.11764705882352941, 0.11372549019607843, 0.09411764705882353], [0.10588235294117647, 0.10588235294117647, 0.08235294117647059]], [[0.11764705882352941, 0.11372549019607843, 0.09411764705882353], [0.11764705882352941, 0.11372549019607843, 0.09411764705882353], [0.11764705882352941, 0.11372549019607843, 0.09411764705882353], [0.11764705882352941, 0.11372549019607843, 0.09019607843137255], [0.11764705882352941, 0.11372549019607843, 0.09019607843137255], [0.11372549019607843, 0.11372549019607843, 0.09019607843137255], [0.11764705882352941, 0.11764705882352941, 0.09803921568627451], [0.3568627450980392, 0.30980392156862746, 0.26666666666666666], [0.596078431372549, 0.49411764705882355, 0.41568627450980394], [0.792156862745098, 0.6470588235294118, 0.5254901960784314], [0.8823529411764706, 0.7254901960784313, 0.5764705882352941], [0.9058823529411765, 0.7568627450980392, 0.611764705882353], [0.9019607843137255, 0.7490196078431373, 0.6], [0.8352941176470589, 0.6823529411764706, 0.5411764705882353], [0.6274509803921569, 0.5333333333333333, 0.43529411764705883], [0.3764705882352941, 0.33725490196078434, 0.2901960784313726], [0.2, 0.19215686274509805, 0.16862745098039217], [0.11764705882352941, 0.11372549019607843, 0.09411764705882353], [0.11764705882352941, 0.11372549019607843, 0.09411764705882353], [0.11372549019607843, 0.10980392156862745, 0.09019607843137255], [0.11372549019607843, 0.10980392156862745, 0.09019607843137255], [0.11372549019607843, 0.10980392156862745, 0.09019607843137255], [0.11372549019607843, 0.10980392156862745, 0.09019607843137255], [0.11372549019607843, 0.10980392156862745, 0.09019607843137255], [0.11372549019607843, 0.10980392156862745, 0.09019607843137255], [0.11372549019607843, 0.10980392156862745, 0.09019607843137255], [0.11372549019607843, 0.10980392156862745, 0.09019607843137255], [0.11372549019607843, 0.10980392156862745, 0.09019607843137255], [0.11372549019607843, 0.10980392156862745, 0.09019607843137255], [0.11764705882352941, 0.11372549019607843, 0.09411764705882353], [0.11764705882352941, 0.11372549019607843, 0.09411764705882353], [0.10588235294117647, 0.10588235294117647, 0.08235294117647059]], [[0.11764705882352941, 0.11372549019607843, 0.09411764705882353], [0.11764705882352941, 0.11764705882352941, 0.09803921568627451], [0.11764705882352941, 0.11372549019607843, 0.09411764705882353], [0.11764705882352941, 0.11372549019607843, 0.09019607843137255], [0.11764705882352941, 0.11764705882352941, 0.09019607843137255], [0.11764705882352941, 0.11764705882352941, 0.09019607843137255], [0.11764705882352941, 0.12156862745098039, 0.10588235294117647], [0.3058823529411765, 0.2901960784313726, 0.27058823529411763], [0.5686274509803921, 0.5254901960784314, 0.49019607843137253], [0.803921568627451, 0.7294117647058823, 0.6705882352941176], [0.8862745098039215, 0.7843137254901961, 0.6941176470588235], [0.9215686274509803, 0.8274509803921568, 0.7450980392156863], [0.9294117647058824, 0.8235294117647058, 0.7254901960784313], [0.9176470588235294, 0.788235294117647, 0.6705882352941176], [0.8901960784313725, 0.7843137254901961, 0.6823529411764706], [0.5607843137254902, 0.5137254901960784, 0.4627450980392157], [0.2784313725490196, 0.27058823529411763, 0.24705882352941178], [0.12156862745098039, 0.12156862745098039, 0.09803921568627451], [0.12156862745098039, 0.11764705882352941, 0.09803921568627451], [0.11764705882352941, 0.11372549019607843, 0.09411764705882353], [0.11372549019607843, 0.10980392156862745, 0.09019607843137255], [0.11372549019607843, 0.10980392156862745, 0.09019607843137255], [0.11372549019607843, 0.10980392156862745, 0.09019607843137255], [0.11372549019607843, 0.10980392156862745, 0.09019607843137255], [0.11372549019607843, 0.10980392156862745, 0.09019607843137255], [0.11372549019607843, 0.10980392156862745, 0.09019607843137255], [0.11372549019607843, 0.10980392156862745, 0.09019607843137255], [0.11372549019607843, 0.10980392156862745, 0.09019607843137255], [0.11372549019607843, 0.10980392156862745, 0.09019607843137255], [0.11764705882352941, 0.11372549019607843, 0.09411764705882353], [0.11764705882352941, 0.11372549019607843, 0.09411764705882353], [0.10588235294117647, 0.10588235294117647, 0.08235294117647059]], [[0.11764705882352941, 0.11764705882352941, 0.09411764705882353], [0.11764705882352941, 0.11764705882352941, 0.09803921568627451], [0.11764705882352941, 0.11764705882352941, 0.09803921568627451], [0.11764705882352941, 0.11764705882352941, 0.09411764705882353], [0.11764705882352941, 0.12156862745098039, 0.09019607843137255], [0.11764705882352941, 0.12156862745098039, 0.09019607843137255], [0.11764705882352941, 0.12156862745098039, 0.10196078431372549], [0.21568627450980393, 0.2196078431372549, 0.2], [0.5019607843137255, 0.49019607843137253, 0.4745098039215686], [0.792156862745098, 0.7686274509803922, 0.7450980392156863], [0.8823529411764706, 0.8313725490196079, 0.796078431372549], [0.8588235294117647, 0.796078431372549, 0.7607843137254902], [0.8745098039215686, 0.796078431372549, 0.7490196078431373], [0.9058823529411765, 0.8156862745098039, 0.7450980392156863], [0.8509803921568627, 0.7843137254901961, 0.7098039215686275], [0.5058823529411764, 0.47843137254901963, 0.43137254901960786], [0.23921568627450981, 0.23921568627450981, 0.21176470588235294], [0.12549019607843137, 0.12941176470588237, 0.10588235294117647], [0.12549019607843137, 0.12549019607843137, 0.10196078431372549], [0.12156862745098039, 0.12156862745098039, 0.09803921568627451], [0.11764705882352941, 0.11764705882352941, 0.09411764705882353], [0.11372549019607843, 0.11764705882352941, 0.09411764705882353], [0.11372549019607843, 0.11372549019607843, 0.09019607843137255], [0.11372549019607843, 0.11372549019607843, 0.09019607843137255], [0.11372549019607843, 0.11372549019607843, 0.09411764705882353], [0.11372549019607843, 0.11372549019607843, 0.09411764705882353], [0.11372549019607843, 0.11372549019607843, 0.09411764705882353], [0.11764705882352941, 0.11372549019607843, 0.09411764705882353], [0.11764705882352941, 0.11372549019607843, 0.09411764705882353], [0.11764705882352941, 0.11372549019607843, 0.09411764705882353], [0.11764705882352941, 0.11372549019607843, 0.09411764705882353], [0.10588235294117647, 0.10196078431372549, 0.08235294117647059]], [[0.11764705882352941, 0.12156862745098039, 0.09803921568627451], [0.11764705882352941, 0.12156862745098039, 0.09803921568627451], [0.11764705882352941, 0.12156862745098039, 0.09803921568627451], [0.11764705882352941, 0.12156862745098039, 0.09803921568627451], [0.12156862745098039, 0.12549019607843137, 0.09411764705882353], [0.12156862745098039, 0.12941176470588237, 0.09411764705882353], [0.12156862745098039, 0.12549019607843137, 0.10196078431372549], [0.15294117647058825, 0.15294117647058825, 0.13333333333333333], [0.3176470588235294, 0.3176470588235294, 0.3058823529411765], [0.5490196078431373, 0.5490196078431373, 0.5450980392156862], [0.7725490196078432, 0.7647058823529411, 0.7686274509803922], [0.5882352941176471, 0.5647058823529412, 0.5686274509803921], [0.6313725490196078, 0.596078431372549, 0.592156862745098], [0.792156862745098, 0.7568627450980392, 0.7411764705882353], [0.7137254901960784, 0.6901960784313725, 0.6627450980392157], [0.38823529411764707, 0.3803921568627451, 0.35294117647058826], [0.1803921568627451, 0.1803921568627451, 0.1568627450980392], [0.13333333333333333, 0.13725490196078433, 0.11372549019607843], [0.12941176470588237, 0.13333333333333333, 0.10980392156862745], [0.12549019607843137, 0.12941176470588237, 0.10588235294117647], [0.12156862745098039, 0.12549019607843137, 0.10196078431372549], [0.11764705882352941, 0.12156862745098039, 0.09803921568627451], [0.11372549019607843, 0.11764705882352941, 0.09411764705882353], [0.11372549019607843, 0.11764705882352941, 0.09411764705882353], [0.11372549019607843, 0.11764705882352941, 0.09411764705882353], [0.11372549019607843, 0.11764705882352941, 0.09411764705882353], [0.11764705882352941, 0.11372549019607843, 0.09411764705882353], [0.11764705882352941, 0.11372549019607843, 0.09411764705882353], [0.11764705882352941, 0.11372549019607843, 0.09411764705882353], [0.11764705882352941, 0.11372549019607843, 0.09411764705882353], [0.11764705882352941, 0.11372549019607843, 0.09411764705882353], [0.10588235294117647, 0.10196078431372549, 0.08627450980392157]], [[0.12156862745098039, 0.12549019607843137, 0.10196078431372549], [0.12549019607843137, 0.12549019607843137, 0.10588235294117647], [0.12156862745098039, 0.12549019607843137, 0.10196078431372549], [0.12156862745098039, 0.12549019607843137, 0.10196078431372549], [0.12549019607843137, 0.12941176470588237, 0.09803921568627451], [0.12941176470588237, 0.13333333333333333, 0.09803921568627451], [0.12941176470588237, 0.13333333333333333, 0.10980392156862745], [0.13333333333333333, 0.13725490196078433, 0.11764705882352941], [0.17254901960784313, 0.17254901960784313, 0.1568627450980392], [0.30980392156862746, 0.3058823529411765, 0.2980392156862745], [0.6549019607843137, 0.6431372549019608, 0.6352941176470588], [0.4235294117647059, 0.4117647058823529, 0.403921568627451], [0.4392156862745098, 0.4235294117647059, 0.4117647058823529], [0.6235294117647059, 0.6, 0.5882352941176471], [0.6941176470588235, 0.6627450980392157, 0.6509803921568628], [0.3764705882352941, 0.36470588235294116, 0.34509803921568627], [0.17254901960784313, 0.17254901960784313, 0.14901960784313725], [0.1450980392156863, 0.14901960784313725, 0.12549019607843137], [0.1411764705882353, 0.1450980392156863, 0.12156862745098039], [0.13333333333333333, 0.13725490196078433, 0.11372549019607843], [0.12941176470588237, 0.13333333333333333, 0.10980392156862745], [0.12156862745098039, 0.12549019607843137, 0.10196078431372549], [0.11764705882352941, 0.12156862745098039, 0.09803921568627451], [0.11764705882352941, 0.12156862745098039, 0.09803921568627451], [0.11764705882352941, 0.12156862745098039, 0.09803921568627451], [0.11372549019607843, 0.11764705882352941, 0.09411764705882353], [0.11764705882352941, 0.11372549019607843, 0.09411764705882353], [0.11764705882352941, 0.11372549019607843, 0.09411764705882353], [0.11764705882352941, 0.11372549019607843, 0.09411764705882353], [0.12156862745098039, 0.11764705882352941, 0.09803921568627451], [0.12156862745098039, 0.11764705882352941, 0.09803921568627451], [0.10980392156862745, 0.10588235294117647, 0.09019607843137255]], [[0.12156862745098039, 0.12549019607843137, 0.10196078431372549], [0.12549019607843137, 0.12941176470588237, 0.10588235294117647], [0.12549019607843137, 0.12941176470588237, 0.10588235294117647], [0.12549019607843137, 0.12941176470588237, 0.10588235294117647], [0.12549019607843137, 0.13333333333333333, 0.10196078431372549], [0.12941176470588237, 0.13333333333333333, 0.10588235294117647], [0.13333333333333333, 0.13725490196078433, 0.11372549019607843], [0.13725490196078433, 0.1411764705882353, 0.12156862745098039], [0.14901960784313725, 0.14901960784313725, 0.13725490196078433], [0.2235294117647059, 0.2235294117647059, 0.21568627450980393], [0.43529411764705883, 0.43137254901960786, 0.42745098039215684], [0.3215686274509804, 0.32941176470588235, 0.3215686274509804], [0.2980392156862745, 0.30196078431372547, 0.30196078431372547], [0.403921568627451, 0.396078431372549, 0.4], [0.6823529411764706, 0.6627450980392157, 0.6666666666666666], [0.39215686274509803, 0.3843137254901961, 0.37254901960784315], [0.1803921568627451, 0.1843137254901961, 0.16470588235294117], [0.15294117647058825, 0.1568627450980392, 0.13725490196078433], [0.14901960784313725, 0.15294117647058825, 0.13333333333333333], [0.1411764705882353, 0.1450980392156863, 0.12549019607843137], [0.13333333333333333, 0.1411764705882353, 0.11764705882352941], [0.12941176470588237, 0.13333333333333333, 0.10980392156862745], [0.12549019607843137, 0.12941176470588237, 0.10588235294117647], [0.12549019607843137, 0.12941176470588237, 0.10588235294117647], [0.12156862745098039, 0.12549019607843137, 0.10196078431372549], [0.12156862745098039, 0.12156862745098039, 0.09803921568627451], [0.11764705882352941, 0.11764705882352941, 0.09803921568627451], [0.11764705882352941, 0.11764705882352941, 0.09411764705882353], [0.11764705882352941, 0.11764705882352941, 0.09803921568627451], [0.12156862745098039, 0.11764705882352941, 0.09803921568627451], [0.12156862745098039, 0.12156862745098039, 0.09803921568627451], [0.10980392156862745, 0.10980392156862745, 0.09019607843137255]], [[0.12549019607843137, 0.12941176470588237, 0.10588235294117647], [0.12549019607843137, 0.12941176470588237, 0.10588235294117647], [0.12549019607843137, 0.12941176470588237, 0.10588235294117647], [0.12941176470588237, 0.13333333333333333, 0.10980392156862745], [0.12941176470588237, 0.13333333333333333, 0.11372549019607843], [0.13333333333333333, 0.13333333333333333, 0.12156862745098039], [0.13725490196078433, 0.1411764705882353, 0.12941176470588237], [0.1450980392156863, 0.1450980392156863, 0.13725490196078433], [0.15294117647058825, 0.15294117647058825, 0.1450980392156863], [0.1607843137254902, 0.16470588235294117, 0.1607843137254902], [0.17647058823529413, 0.1843137254901961, 0.1803921568627451], [0.17254901960784313, 0.1843137254901961, 0.1843137254901961], [0.22745098039215686, 0.23921568627450981, 0.23921568627450981], [0.3607843137254902, 0.3686274509803922, 0.3686274509803922], [0.6274509803921569, 0.6313725490196078, 0.6313725490196078], [0.3607843137254902, 0.3686274509803922, 0.3607843137254902], [0.17254901960784313, 0.1803921568627451, 0.16862745098039217], [0.15294117647058825, 0.1607843137254902, 0.14901960784313725], [0.14901960784313725, 0.1568627450980392, 0.1411764705882353], [0.1411764705882353, 0.14901960784313725, 0.13333333333333333], [0.13725490196078433, 0.1450980392156863, 0.12549019607843137], [0.13333333333333333, 0.13725490196078433, 0.11764705882352941], [0.12941176470588237, 0.13333333333333333, 0.10980392156862745], [0.12941176470588237, 0.13333333333333333, 0.10980392156862745], [0.12549019607843137, 0.12941176470588237, 0.10588235294117647], [0.12549019607843137, 0.12941176470588237, 0.10588235294117647], [0.12156862745098039, 0.12156862745098039, 0.09803921568627451], [0.11764705882352941, 0.12156862745098039, 0.09803921568627451], [0.12156862745098039, 0.12156862745098039, 0.10196078431372549], [0.12549019607843137, 0.12549019607843137, 0.10588235294117647], [0.12549019607843137, 0.12941176470588237, 0.10588235294117647], [0.11372549019607843, 0.11764705882352941, 0.09411764705882353]], [[0.12941176470588237, 0.13725490196078433, 0.11372549019607843], [0.13333333333333333, 0.13725490196078433, 0.11372549019607843], [0.13333333333333333, 0.13725490196078433, 0.11372549019607843], [0.13333333333333333, 0.13725490196078433, 0.11372549019607843], [0.13725490196078433, 0.13725490196078433, 0.12156862745098039], [0.1411764705882353, 0.1411764705882353, 0.13333333333333333], [0.1450980392156863, 0.1450980392156863, 0.13725490196078433], [0.14901960784313725, 0.14901960784313725, 0.1411764705882353], [0.1568627450980392, 0.1568627450980392, 0.14901960784313725], [0.16470588235294117, 0.16862745098039217, 0.1607843137254902], [0.16470588235294117, 0.17254901960784313, 0.16862745098039217], [0.17254901960784313, 0.1803921568627451, 0.17647058823529413], [0.24705882352941178, 0.2549019607843137, 0.25098039215686274], [0.3607843137254902, 0.3686274509803922, 0.3607843137254902], [0.4392156862745098, 0.4470588235294118, 0.44313725490196076], [0.2784313725490196, 0.28627450980392155, 0.2784313725490196], [0.17254901960784313, 0.1803921568627451, 0.17254901960784313], [0.16862745098039217, 0.17647058823529413, 0.16470588235294117], [0.1568627450980392, 0.16470588235294117, 0.15294117647058825], [0.14901960784313725, 0.1568627450980392, 0.1450980392156863], [0.1450980392156863, 0.15294117647058825, 0.13333333333333333], [0.1411764705882353, 0.1450980392156863, 0.12549019607843137], [0.13725490196078433, 0.1411764705882353, 0.11764705882352941], [0.12941176470588237, 0.13333333333333333, 0.10980392156862745], [0.12549019607843137, 0.12941176470588237, 0.10588235294117647], [0.12549019607843137, 0.12941176470588237, 0.10588235294117647], [0.12156862745098039, 0.12549019607843137, 0.10196078431372549], [0.12156862745098039, 0.12549019607843137, 0.10196078431372549], [0.12156862745098039, 0.12549019607843137, 0.10196078431372549], [0.12549019607843137, 0.12941176470588237, 0.10588235294117647], [0.12549019607843137, 0.12941176470588237, 0.10588235294117647], [0.11372549019607843, 0.11764705882352941, 0.09803921568627451]], [[0.13333333333333333, 0.13725490196078433, 0.11372549019607843], [0.13725490196078433, 0.1411764705882353, 0.11764705882352941], [0.13725490196078433, 0.1411764705882353, 0.11764705882352941], [0.1411764705882353, 0.1450980392156863, 0.12549019607843137], [0.1450980392156863, 0.14901960784313725, 0.13333333333333333], [0.15294117647058825, 0.15294117647058825, 0.1450980392156863], [0.1568627450980392, 0.1568627450980392, 0.14901960784313725], [0.1607843137254902, 0.16470588235294117, 0.1568627450980392], [0.16470588235294117, 0.16862745098039217, 0.1607843137254902], [0.16862745098039217, 0.17254901960784313, 0.16470588235294117], [0.17254901960784313, 0.1803921568627451, 0.17647058823529413], [0.1803921568627451, 0.18823529411764706, 0.1843137254901961], [0.19215686274509805, 0.2, 0.19607843137254902], [0.20392156862745098, 0.21176470588235294, 0.20784313725490197], [0.19607843137254902, 0.20392156862745098, 0.2], [0.1843137254901961, 0.19215686274509805, 0.1803921568627451], [0.17254901960784313, 0.1803921568627451, 0.16862745098039217], [0.16862745098039217, 0.17647058823529413, 0.16470588235294117], [0.1607843137254902, 0.16862745098039217, 0.1568627450980392], [0.1568627450980392, 0.16470588235294117, 0.15294117647058825], [0.15294117647058825, 0.1607843137254902, 0.1411764705882353], [0.14901960784313725, 0.15294117647058825, 0.13333333333333333], [0.1450980392156863, 0.14901960784313725, 0.12549019607843137], [0.13725490196078433, 0.1411764705882353, 0.11764705882352941], [0.13333333333333333, 0.13725490196078433, 0.11372549019607843], [0.13333333333333333, 0.13725490196078433, 0.11372549019607843], [0.12941176470588237, 0.13333333333333333, 0.10980392156862745], [0.12941176470588237, 0.13333333333333333, 0.10980392156862745], [0.12941176470588237, 0.13333333333333333, 0.10980392156862745], [0.12941176470588237, 0.13333333333333333, 0.10980392156862745], [0.12941176470588237, 0.13333333333333333, 0.10980392156862745], [0.11764705882352941, 0.12156862745098039, 0.09803921568627451]], [[0.13725490196078433, 0.14901960784313725, 0.12156862745098039], [0.1411764705882353, 0.15294117647058825, 0.12156862745098039], [0.1450980392156863, 0.15294117647058825, 0.12549019607843137], [0.1450980392156863, 0.1568627450980392, 0.12941176470588237], [0.14901960784313725, 0.1568627450980392, 0.13725490196078433], [0.14901960784313725, 0.1607843137254902, 0.1450980392156863], [0.1607843137254902, 0.16862745098039217, 0.15294117647058825], [0.16862745098039217, 0.17647058823529413, 0.16470588235294117], [0.17254901960784313, 0.1803921568627451, 0.17254901960784313], [0.17254901960784313, 0.1843137254901961, 0.1803921568627451], [0.1803921568627451, 0.19607843137254902, 0.19215686274509805], [0.18823529411764706, 0.2, 0.2], [0.19215686274509805, 0.20784313725490197, 0.20392156862745098], [0.19607843137254902, 0.20784313725490197, 0.20784313725490197], [0.1843137254901961, 0.2, 0.19607843137254902], [0.1803921568627451, 0.19607843137254902, 0.18823529411764706], [0.17647058823529413, 0.19215686274509805, 0.1843137254901961], [0.17254901960784313, 0.18823529411764706, 0.1803921568627451], [0.16862745098039217, 0.1803921568627451, 0.17647058823529413], [0.16470588235294117, 0.17647058823529413, 0.16862745098039217], [0.1607843137254902, 0.17254901960784313, 0.1607843137254902], [0.1607843137254902, 0.16470588235294117, 0.14901960784313725], [0.1607843137254902, 0.16470588235294117, 0.1450980392156863], [0.15294117647058825, 0.1568627450980392, 0.13725490196078433], [0.1411764705882353, 0.1450980392156863, 0.12549019607843137], [0.13725490196078433, 0.1411764705882353, 0.12156862745098039], [0.13725490196078433, 0.1411764705882353, 0.11764705882352941], [0.13725490196078433, 0.1411764705882353, 0.11764705882352941], [0.13333333333333333, 0.13725490196078433, 0.11372549019607843], [0.13333333333333333, 0.13725490196078433, 0.11372549019607843], [0.13333333333333333, 0.13725490196078433, 0.11372549019607843], [0.11764705882352941, 0.12549019607843137, 0.10196078431372549]], [[0.14901960784313725, 0.19215686274509805, 0.14901960784313725], [0.15294117647058825, 0.2, 0.15294117647058825], [0.1568627450980392, 0.2, 0.15294117647058825], [0.1568627450980392, 0.19607843137254902, 0.15294117647058825], [0.1607843137254902, 0.19215686274509805, 0.1568627450980392], [0.1607843137254902, 0.18823529411764706, 0.1568627450980392], [0.16470588235294117, 0.18823529411764706, 0.16470588235294117], [0.16862745098039217, 0.18823529411764706, 0.17647058823529413], [0.17647058823529413, 0.2, 0.19215686274509805], [0.19215686274509805, 0.21176470588235294, 0.21176470588235294], [0.20784313725490197, 0.22745098039215686, 0.22745098039215686], [0.20392156862745098, 0.22745098039215686, 0.22745098039215686], [0.20784313725490197, 0.23137254901960785, 0.23137254901960785], [0.21176470588235294, 0.23137254901960785, 0.23137254901960785], [0.20392156862745098, 0.22745098039215686, 0.22745098039215686], [0.19215686274509805, 0.21176470588235294, 0.21176470588235294], [0.1803921568627451, 0.20392156862745098, 0.20392156862745098], [0.1803921568627451, 0.20392156862745098, 0.20392156862745098], [0.17647058823529413, 0.2, 0.2], [0.16862745098039217, 0.18823529411764706, 0.18823529411764706], [0.16470588235294117, 0.17647058823529413, 0.17254901960784313], [0.16470588235294117, 0.16862745098039217, 0.1607843137254902], [0.16470588235294117, 0.16862745098039217, 0.1568627450980392], [0.1568627450980392, 0.1568627450980392, 0.14901960784313725], [0.14901960784313725, 0.14901960784313725, 0.13725490196078433], [0.1411764705882353, 0.1411764705882353, 0.12941176470588237], [0.1411764705882353, 0.1450980392156863, 0.12549019607843137], [0.1411764705882353, 0.1450980392156863, 0.12156862745098039], [0.13725490196078433, 0.1411764705882353, 0.11764705882352941], [0.13725490196078433, 0.1411764705882353, 0.11764705882352941], [0.13333333333333333, 0.1411764705882353, 0.11764705882352941], [0.12156862745098039, 0.13333333333333333, 0.10588235294117647]], [[0.15294117647058825, 0.19215686274509805, 0.14901960784313725], [0.1568627450980392, 0.19607843137254902, 0.15294117647058825], [0.1568627450980392, 0.2, 0.15294117647058825], [0.1568627450980392, 0.19215686274509805, 0.15294117647058825], [0.1607843137254902, 0.1843137254901961, 0.15294117647058825], [0.16470588235294117, 0.1803921568627451, 0.15294117647058825], [0.16470588235294117, 0.1803921568627451, 0.1568627450980392], [0.16862745098039217, 0.1843137254901961, 0.17254901960784313], [0.1803921568627451, 0.19215686274509805, 0.18823529411764706], [0.18823529411764706, 0.20392156862745098, 0.20784313725490197], [0.18823529411764706, 0.20784313725490197, 0.21176470588235294], [0.1843137254901961, 0.20784313725490197, 0.20784313725490197], [0.18823529411764706, 0.21176470588235294, 0.21176470588235294], [0.19215686274509805, 0.21568627450980393, 0.21568627450980393], [0.19215686274509805, 0.21568627450980393, 0.21568627450980393], [0.19215686274509805, 0.21568627450980393, 0.21568627450980393], [0.18823529411764706, 0.21176470588235294, 0.21176470588235294], [0.18823529411764706, 0.21176470588235294, 0.21176470588235294], [0.1803921568627451, 0.20392156862745098, 0.20392156862745098], [0.16862745098039217, 0.18823529411764706, 0.18823529411764706], [0.16470588235294117, 0.17647058823529413, 0.17254901960784313], [0.16470588235294117, 0.16862745098039217, 0.1607843137254902], [0.1607843137254902, 0.1607843137254902, 0.15294117647058825], [0.15294117647058825, 0.15294117647058825, 0.1450980392156863], [0.1450980392156863, 0.1450980392156863, 0.13725490196078433], [0.1411764705882353, 0.1450980392156863, 0.13333333333333333], [0.1411764705882353, 0.1450980392156863, 0.12549019607843137], [0.1411764705882353, 0.1450980392156863, 0.12156862745098039], [0.1411764705882353, 0.1450980392156863, 0.12156862745098039], [0.1411764705882353, 0.1450980392156863, 0.12156862745098039], [0.13725490196078433, 0.1450980392156863, 0.12156862745098039], [0.12549019607843137, 0.13725490196078433, 0.10980392156862745]], [[0.14901960784313725, 0.1568627450980392, 0.12156862745098039], [0.15294117647058825, 0.1607843137254902, 0.12941176470588237], [0.15294117647058825, 0.16470588235294117, 0.12941176470588237], [0.15294117647058825, 0.1607843137254902, 0.12941176470588237], [0.15294117647058825, 0.1607843137254902, 0.13333333333333333], [0.1568627450980392, 0.1607843137254902, 0.1411764705882353], [0.1607843137254902, 0.16470588235294117, 0.14901960784313725], [0.16470588235294117, 0.16862745098039217, 0.1607843137254902], [0.17647058823529413, 0.17647058823529413, 0.17647058823529413], [0.1803921568627451, 0.18823529411764706, 0.19215686274509805], [0.17647058823529413, 0.19215686274509805, 0.19607843137254902], [0.17647058823529413, 0.19607843137254902, 0.19607843137254902], [0.1803921568627451, 0.2, 0.2], [0.1843137254901961, 0.20784313725490197, 0.20784313725490197], [0.18823529411764706, 0.21176470588235294, 0.21176470588235294], [0.18823529411764706, 0.21176470588235294, 0.21176470588235294], [0.1843137254901961, 0.20784313725490197, 0.20784313725490197], [0.1803921568627451, 0.20392156862745098, 0.20392156862745098], [0.17254901960784313, 0.19607843137254902, 0.19607843137254902], [0.16862745098039217, 0.18823529411764706, 0.1843137254901961], [0.16862745098039217, 0.1803921568627451, 0.17647058823529413], [0.16862745098039217, 0.17254901960784313, 0.16470588235294117], [0.16470588235294117, 0.16470588235294117, 0.1568627450980392], [0.1568627450980392, 0.1568627450980392, 0.14901960784313725], [0.15294117647058825, 0.15294117647058825, 0.1450980392156863], [0.1450980392156863, 0.14901960784313725, 0.13333333333333333], [0.1450980392156863, 0.1450980392156863, 0.12549019607843137], [0.1411764705882353, 0.1450980392156863, 0.12156862745098039], [0.1411764705882353, 0.1450980392156863, 0.12156862745098039], [0.1411764705882353, 0.1450980392156863, 0.12156862745098039], [0.1411764705882353, 0.1450980392156863, 0.12156862745098039], [0.12941176470588237, 0.13333333333333333, 0.10980392156862745]], [[0.14901960784313725, 0.1568627450980392, 0.12941176470588237], [0.15294117647058825, 0.1607843137254902, 0.13333333333333333], [0.15294117647058825, 0.1607843137254902, 0.13333333333333333], [0.15294117647058825, 0.1607843137254902, 0.13333333333333333], [0.1568627450980392, 0.1607843137254902, 0.13725490196078433], [0.1568627450980392, 0.16470588235294117, 0.1450980392156863], [0.1607843137254902, 0.16470588235294117, 0.1568627450980392], [0.16470588235294117, 0.16862745098039217, 0.16862745098039217], [0.17254901960784313, 0.17254901960784313, 0.1803921568627451], [0.17647058823529413, 0.1843137254901961, 0.19215686274509805], [0.1843137254901961, 0.19607843137254902, 0.20392156862745098], [0.18823529411764706, 0.20392156862745098, 0.21176470588235294], [0.19215686274509805, 0.20784313725490197, 0.21568627450980393], [0.19607843137254902, 0.21176470588235294, 0.2196078431372549], [0.20392156862745098, 0.2196078431372549, 0.2235294117647059], [0.19607843137254902, 0.21568627450980393, 0.2235294117647059], [0.18823529411764706, 0.20784313725490197, 0.21176470588235294], [0.1803921568627451, 0.2, 0.2], [0.17254901960784313, 0.19607843137254902, 0.18823529411764706], [0.17254901960784313, 0.19215686274509805, 0.1803921568627451], [0.16862745098039217, 0.1843137254901961, 0.17254901960784313], [0.16862745098039217, 0.17254901960784313, 0.16470588235294117], [0.16862745098039217, 0.16862745098039217, 0.1607843137254902], [0.16470588235294117, 0.16470588235294117, 0.1568627450980392], [0.1607843137254902, 0.16470588235294117, 0.15294117647058825], [0.15294117647058825, 0.15294117647058825, 0.1411764705882353], [0.15294117647058825, 0.15294117647058825, 0.13333333333333333], [0.14901960784313725, 0.15294117647058825, 0.13333333333333333], [0.14901960784313725, 0.15294117647058825, 0.12941176470588237], [0.1450980392156863, 0.14901960784313725, 0.12549019607843137], [0.1450980392156863, 0.14901960784313725, 0.12549019607843137], [0.13725490196078433, 0.13725490196078433, 0.11372549019607843]], [[0.15294117647058825, 0.1607843137254902, 0.13725490196078433], [0.1568627450980392, 0.16470588235294117, 0.13725490196078433], [0.1568627450980392, 0.16470588235294117, 0.1411764705882353], [0.1607843137254902, 0.16470588235294117, 0.1411764705882353], [0.16470588235294117, 0.16862745098039217, 0.14901960784313725], [0.16470588235294117, 0.17254901960784313, 0.1568627450980392], [0.16470588235294117, 0.17254901960784313, 0.16470588235294117], [0.17254901960784313, 0.1803921568627451, 0.1803921568627451], [0.1803921568627451, 0.18823529411764706, 0.19607843137254902], [0.18823529411764706, 0.2, 0.21568627450980393], [0.2, 0.2235294117647059, 0.24313725490196078], [0.2, 0.2235294117647059, 0.24313725490196078], [0.20784313725490197, 0.23137254901960785, 0.25098039215686274], [0.21568627450980393, 0.24313725490196078, 0.2627450980392157], [0.2235294117647059, 0.24705882352941178, 0.27058823529411763], [0.2196078431372549, 0.23921568627450981, 0.2627450980392157], [0.20784313725490197, 0.22745098039215686, 0.25098039215686274], [0.2, 0.2196078431372549, 0.23529411764705882], [0.19607843137254902, 0.21568627450980393, 0.2235294117647059], [0.18823529411764706, 0.20784313725490197, 0.20784313725490197], [0.1843137254901961, 0.19607843137254902, 0.19215686274509805], [0.1803921568627451, 0.1803921568627451, 0.17254901960784313], [0.17254901960784313, 0.17254901960784313, 0.16470588235294117], [0.16862745098039217, 0.16862745098039217, 0.1607843137254902], [0.16470588235294117, 0.16470588235294117, 0.1568627450980392], [0.1568627450980392, 0.1607843137254902, 0.14901960784313725], [0.1568627450980392, 0.1607843137254902, 0.1411764705882353], [0.1568627450980392, 0.1607843137254902, 0.13725490196078433], [0.1568627450980392, 0.1607843137254902, 0.13725490196078433], [0.15294117647058825, 0.1568627450980392, 0.13333333333333333], [0.15294117647058825, 0.1568627450980392, 0.13333333333333333], [0.1411764705882353, 0.1450980392156863, 0.12156862745098039]], [[0.1607843137254902, 0.16470588235294117, 0.1411764705882353], [0.16470588235294117, 0.16862745098039217, 0.1450980392156863], [0.16862745098039217, 0.17254901960784313, 0.14901960784313725], [0.17254901960784313, 0.17647058823529413, 0.15294117647058825], [0.17254901960784313, 0.1803921568627451, 0.1568627450980392], [0.17254901960784313, 0.1803921568627451, 0.16470588235294117], [0.17254901960784313, 0.1803921568627451, 0.17647058823529413], [0.1843137254901961, 0.18823529411764706, 0.19215686274509805], [0.19215686274509805, 0.19607843137254902, 0.20784313725490197], [0.19607843137254902, 0.21176470588235294, 0.22745098039215686], [0.20784313725490197, 0.23137254901960785, 0.2549019607843137], [0.20784313725490197, 0.23529411764705882, 0.25882352941176473], [0.21176470588235294, 0.23921568627450981, 0.2627450980392157], [0.21568627450980393, 0.24705882352941178, 0.26666666666666666], [0.22745098039215686, 0.2549019607843137, 0.2784313725490196], [0.23137254901960785, 0.25098039215686274, 0.2784313725490196], [0.22745098039215686, 0.24705882352941178, 0.27058823529411763], [0.21568627450980393, 0.23529411764705882, 0.2549019607843137], [0.20392156862745098, 0.2235294117647059, 0.23529411764705882], [0.19607843137254902, 0.21568627450980393, 0.21568627450980393], [0.18823529411764706, 0.20392156862745098, 0.2], [0.18823529411764706, 0.18823529411764706, 0.1803921568627451], [0.17647058823529413, 0.1803921568627451, 0.17254901960784313], [0.17254901960784313, 0.17254901960784313, 0.16470588235294117], [0.16862745098039217, 0.16862745098039217, 0.1607843137254902], [0.1607843137254902, 0.16470588235294117, 0.15294117647058825], [0.1607843137254902, 0.16470588235294117, 0.1411764705882353], [0.1568627450980392, 0.1607843137254902, 0.1411764705882353], [0.1568627450980392, 0.1607843137254902, 0.13725490196078433], [0.1607843137254902, 0.16470588235294117, 0.1411764705882353], [0.1607843137254902, 0.16470588235294117, 0.1411764705882353], [0.1450980392156863, 0.14901960784313725, 0.12941176470588237]], [[0.1568627450980392, 0.1568627450980392, 0.13333333333333333], [0.1568627450980392, 0.1607843137254902, 0.13725490196078433], [0.1607843137254902, 0.16470588235294117, 0.13725490196078433], [0.16470588235294117, 0.16862745098039217, 0.1450980392156863], [0.1607843137254902, 0.16470588235294117, 0.1411764705882353], [0.15294117647058825, 0.1607843137254902, 0.1450980392156863], [0.1568627450980392, 0.16470588235294117, 0.15294117647058825], [0.1607843137254902, 0.16470588235294117, 0.1607843137254902], [0.16470588235294117, 0.17254901960784313, 0.17254901960784313], [0.16862745098039217, 0.17647058823529413, 0.1803921568627451], [0.16862745098039217, 0.1803921568627451, 0.1843137254901961], [0.17254901960784313, 0.1803921568627451, 0.1843137254901961], [0.17254901960784313, 0.1843137254901961, 0.18823529411764706], [0.17647058823529413, 0.18823529411764706, 0.19215686274509805], [0.1803921568627451, 0.19215686274509805, 0.19607843137254902], [0.1803921568627451, 0.19607843137254902, 0.2], [0.17647058823529413, 0.19607843137254902, 0.19607843137254902], [0.16470588235294117, 0.1843137254901961, 0.1803921568627451], [0.16470588235294117, 0.1843137254901961, 0.16862745098039217], [0.1607843137254902, 0.1803921568627451, 0.16470588235294117], [0.1607843137254902, 0.17254901960784313, 0.1568627450980392], [0.1607843137254902, 0.16470588235294117, 0.14901960784313725], [0.1568627450980392, 0.1607843137254902, 0.1450980392156863], [0.1568627450980392, 0.1568627450980392, 0.1450980392156863], [0.1568627450980392, 0.1568627450980392, 0.1411764705882353], [0.15294117647058825, 0.15294117647058825, 0.13725490196078433], [0.15294117647058825, 0.1568627450980392, 0.13333333333333333], [0.15294117647058825, 0.1568627450980392, 0.13333333333333333], [0.15294117647058825, 0.1568627450980392, 0.13333333333333333], [0.15294117647058825, 0.1568627450980392, 0.13333333333333333], [0.15294117647058825, 0.1568627450980392, 0.13333333333333333], [0.1411764705882353, 0.1450980392156863, 0.12156862745098039]]]]}'"
            ]
          },
          "metadata": {
            "tags": []
          },
          "execution_count": 33
        }
      ]
    },
    {
      "cell_type": "markdown",
      "metadata": {
        "id": "KZDKjyfbPoIa",
        "colab_type": "text"
      },
      "source": [
        "### Enviar la primera petición POST al modelo"
      ]
    },
    {
      "cell_type": "code",
      "metadata": {
        "id": "7oFbtxiyPe4p",
        "colab_type": "code",
        "colab": {}
      },
      "source": [
        "headers = {\"content-type\":\"application/json\"}"
      ],
      "execution_count": 0,
      "outputs": []
    },
    {
      "cell_type": "code",
      "metadata": {
        "id": "I5KHh02nQYIJ",
        "colab_type": "code",
        "colab": {}
      },
      "source": [
        "json_response = requests.post(url=\"http://localhost:8001/v1/models/cifar10:predict\", data=data, headers=headers)"
      ],
      "execution_count": 0,
      "outputs": []
    },
    {
      "cell_type": "code",
      "metadata": {
        "id": "bMYkCQ4gQ2tR",
        "colab_type": "code",
        "outputId": "3bcf9b7e-97ff-44ac-e9cd-bf4f4c65331a",
        "colab": {
          "base_uri": "https://localhost:8080/",
          "height": 33
        }
      },
      "source": [
        "json_response"
      ],
      "execution_count": 36,
      "outputs": [
        {
          "output_type": "execute_result",
          "data": {
            "text/plain": [
              "<Response [200]>"
            ]
          },
          "metadata": {
            "tags": []
          },
          "execution_count": 36
        }
      ]
    },
    {
      "cell_type": "code",
      "metadata": {
        "id": "UtoG2441Q4_I",
        "colab_type": "code",
        "colab": {}
      },
      "source": [
        "predictions = json.loads(json_response.text)['predictions']"
      ],
      "execution_count": 0,
      "outputs": []
    },
    {
      "cell_type": "code",
      "metadata": {
        "id": "hA-jN6xSRK2S",
        "colab_type": "code",
        "outputId": "596caaa4-adc0-420d-fa9f-804130437f74",
        "colab": {
          "base_uri": "https://localhost:8080/",
          "height": 180
        }
      },
      "source": [
        "predictions"
      ],
      "execution_count": 39,
      "outputs": [
        {
          "output_type": "execute_result",
          "data": {
            "text/plain": [
              "[[0.00245063845,\n",
              "  0.00097004656,\n",
              "  0.158991858,\n",
              "  0.666890264,\n",
              "  0.00222527608,\n",
              "  0.167271927,\n",
              "  0.000129486332,\n",
              "  0.000860854925,\n",
              "  6.50862262e-07,\n",
              "  0.000209104473]]"
            ]
          },
          "metadata": {
            "tags": []
          },
          "execution_count": 39
        }
      ]
    },
    {
      "cell_type": "code",
      "metadata": {
        "id": "KlyFNxrxRL_A",
        "colab_type": "code",
        "outputId": "b4147eaf-0411-4fb3-f381-7f57604c2759",
        "colab": {
          "base_uri": "https://localhost:8080/",
          "height": 282
        }
      },
      "source": [
        "plt.imshow(X_test[random_image])"
      ],
      "execution_count": 40,
      "outputs": [
        {
          "output_type": "execute_result",
          "data": {
            "text/plain": [
              "<matplotlib.image.AxesImage at 0x7f55b074e358>"
            ]
          },
          "metadata": {
            "tags": []
          },
          "execution_count": 40
        },
        {
          "output_type": "display_data",
          "data": {
            "image/png": "[encoded data removed]",
            "text/plain": [
              "<Figure size 432x288 with 1 Axes>"
            ]
          },
          "metadata": {
            "tags": [],
            "needs_background": "light"
          }
        }
      ]
    },
    {
      "cell_type": "code",
      "metadata": {
        "id": "E3WbrMl_RW1Y",
        "colab_type": "code",
        "outputId": "10c44c31-4b4f-41f1-ac0a-8318114e0e8f",
        "colab": {
          "base_uri": "https://localhost:8080/",
          "height": 33
        }
      },
      "source": [
        "class_names[np.argmax(predictions[0])]"
      ],
      "execution_count": 42,
      "outputs": [
        {
          "output_type": "execute_result",
          "data": {
            "text/plain": [
              "'gato'"
            ]
          },
          "metadata": {
            "tags": []
          },
          "execution_count": 42
        }
      ]
    },
    {
      "cell_type": "markdown",
      "metadata": {
        "id": "OVN6T3tFR_IQ",
        "colab_type": "text"
      },
      "source": [
        "## Paso 8: Enviar una petición POST a un modelo específico "
      ]
    },
    {
      "cell_type": "code",
      "metadata": {
        "id": "5TYXGo-XRkCo",
        "colab_type": "code",
        "colab": {}
      },
      "source": [
        "specific_json_response = requests.post(url=\"http://localhost:8001/v1/models/cifar10/versions/1:predict\", data=data, headers=headers)"
      ],
      "execution_count": 0,
      "outputs": []
    },
    {
      "cell_type": "code",
      "metadata": {
        "id": "TF9nOKVeS9ER",
        "colab_type": "code",
        "outputId": "8feb2b0d-53da-4bd4-c4df-4424d5af0fbe",
        "colab": {
          "base_uri": "https://localhost:8080/",
          "height": 33
        }
      },
      "source": [
        "specific_json_response"
      ],
      "execution_count": 44,
      "outputs": [
        {
          "output_type": "execute_result",
          "data": {
            "text/plain": [
              "<Response [200]>"
            ]
          },
          "metadata": {
            "tags": []
          },
          "execution_count": 44
        }
      ]
    },
    {
      "cell_type": "code",
      "metadata": {
        "id": "EZGwCkeMS-qg",
        "colab_type": "code",
        "colab": {}
      },
      "source": [
        ""
      ],
      "execution_count": 0,
      "outputs": []
    }
  ]
}